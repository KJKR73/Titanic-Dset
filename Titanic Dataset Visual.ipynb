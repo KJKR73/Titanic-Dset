{
 "cells": [
  {
   "cell_type": "code",
   "execution_count": 1,
   "metadata": {},
   "outputs": [],
   "source": [
    "import numpy as np\n",
    "import pandas as pd\n",
    "import matplotlib.pyplot as plt\n",
    "import seaborn as sns\n",
    "from sklearn.linear_model import LogisticRegression\n",
    "from sklearn.metrics import accuracy_score,classification_report,auc,f1_score,precision_recall_curve,confusion_matrix\n",
    "from sklearn.ensemble import RandomForestClassifier\n",
    "from sklearn.model_selection import GridSearchCV,KFold\n",
    "from sklearn.preprocessing import normalize\n",
    "import tensorflow as tf\n",
    "sns.set_style('darkgrid')\n",
    "%matplotlib inline"
   ]
  },
  {
   "cell_type": "code",
   "execution_count": 2,
   "metadata": {},
   "outputs": [
    {
     "data": {
      "text/html": [
       "<div>\n",
       "<style scoped>\n",
       "    .dataframe tbody tr th:only-of-type {\n",
       "        vertical-align: middle;\n",
       "    }\n",
       "\n",
       "    .dataframe tbody tr th {\n",
       "        vertical-align: top;\n",
       "    }\n",
       "\n",
       "    .dataframe thead th {\n",
       "        text-align: right;\n",
       "    }\n",
       "</style>\n",
       "<table border=\"1\" class=\"dataframe\">\n",
       "  <thead>\n",
       "    <tr style=\"text-align: right;\">\n",
       "      <th></th>\n",
       "      <th>PassengerId</th>\n",
       "      <th>Survived</th>\n",
       "      <th>Pclass</th>\n",
       "      <th>Name</th>\n",
       "      <th>Sex</th>\n",
       "      <th>Age</th>\n",
       "      <th>SibSp</th>\n",
       "      <th>Parch</th>\n",
       "      <th>Ticket</th>\n",
       "      <th>Fare</th>\n",
       "      <th>Cabin</th>\n",
       "      <th>Embarked</th>\n",
       "    </tr>\n",
       "  </thead>\n",
       "  <tbody>\n",
       "    <tr>\n",
       "      <th>0</th>\n",
       "      <td>1</td>\n",
       "      <td>0</td>\n",
       "      <td>3</td>\n",
       "      <td>Braund, Mr. Owen Harris</td>\n",
       "      <td>male</td>\n",
       "      <td>22.0</td>\n",
       "      <td>1</td>\n",
       "      <td>0</td>\n",
       "      <td>A/5 21171</td>\n",
       "      <td>7.2500</td>\n",
       "      <td>NaN</td>\n",
       "      <td>S</td>\n",
       "    </tr>\n",
       "    <tr>\n",
       "      <th>1</th>\n",
       "      <td>2</td>\n",
       "      <td>1</td>\n",
       "      <td>1</td>\n",
       "      <td>Cumings, Mrs. John Bradley (Florence Briggs Th...</td>\n",
       "      <td>female</td>\n",
       "      <td>38.0</td>\n",
       "      <td>1</td>\n",
       "      <td>0</td>\n",
       "      <td>PC 17599</td>\n",
       "      <td>71.2833</td>\n",
       "      <td>C85</td>\n",
       "      <td>C</td>\n",
       "    </tr>\n",
       "    <tr>\n",
       "      <th>2</th>\n",
       "      <td>3</td>\n",
       "      <td>1</td>\n",
       "      <td>3</td>\n",
       "      <td>Heikkinen, Miss. Laina</td>\n",
       "      <td>female</td>\n",
       "      <td>26.0</td>\n",
       "      <td>0</td>\n",
       "      <td>0</td>\n",
       "      <td>STON/O2. 3101282</td>\n",
       "      <td>7.9250</td>\n",
       "      <td>NaN</td>\n",
       "      <td>S</td>\n",
       "    </tr>\n",
       "    <tr>\n",
       "      <th>3</th>\n",
       "      <td>4</td>\n",
       "      <td>1</td>\n",
       "      <td>1</td>\n",
       "      <td>Futrelle, Mrs. Jacques Heath (Lily May Peel)</td>\n",
       "      <td>female</td>\n",
       "      <td>35.0</td>\n",
       "      <td>1</td>\n",
       "      <td>0</td>\n",
       "      <td>113803</td>\n",
       "      <td>53.1000</td>\n",
       "      <td>C123</td>\n",
       "      <td>S</td>\n",
       "    </tr>\n",
       "    <tr>\n",
       "      <th>4</th>\n",
       "      <td>5</td>\n",
       "      <td>0</td>\n",
       "      <td>3</td>\n",
       "      <td>Allen, Mr. William Henry</td>\n",
       "      <td>male</td>\n",
       "      <td>35.0</td>\n",
       "      <td>0</td>\n",
       "      <td>0</td>\n",
       "      <td>373450</td>\n",
       "      <td>8.0500</td>\n",
       "      <td>NaN</td>\n",
       "      <td>S</td>\n",
       "    </tr>\n",
       "  </tbody>\n",
       "</table>\n",
       "</div>"
      ],
      "text/plain": [
       "   PassengerId  Survived  Pclass  \\\n",
       "0            1         0       3   \n",
       "1            2         1       1   \n",
       "2            3         1       3   \n",
       "3            4         1       1   \n",
       "4            5         0       3   \n",
       "\n",
       "                                                Name     Sex   Age  SibSp  \\\n",
       "0                            Braund, Mr. Owen Harris    male  22.0      1   \n",
       "1  Cumings, Mrs. John Bradley (Florence Briggs Th...  female  38.0      1   \n",
       "2                             Heikkinen, Miss. Laina  female  26.0      0   \n",
       "3       Futrelle, Mrs. Jacques Heath (Lily May Peel)  female  35.0      1   \n",
       "4                           Allen, Mr. William Henry    male  35.0      0   \n",
       "\n",
       "   Parch            Ticket     Fare Cabin Embarked  \n",
       "0      0         A/5 21171   7.2500   NaN        S  \n",
       "1      0          PC 17599  71.2833   C85        C  \n",
       "2      0  STON/O2. 3101282   7.9250   NaN        S  \n",
       "3      0            113803  53.1000  C123        S  \n",
       "4      0            373450   8.0500   NaN        S  "
      ]
     },
     "execution_count": 2,
     "metadata": {},
     "output_type": "execute_result"
    }
   ],
   "source": [
    "dataset = pd.read_csv(\"train.csv\")\n",
    "dataset.head()"
   ]
  },
  {
   "cell_type": "code",
   "execution_count": 3,
   "metadata": {},
   "outputs": [
    {
     "data": {
      "text/html": [
       "<div>\n",
       "<style scoped>\n",
       "    .dataframe tbody tr th:only-of-type {\n",
       "        vertical-align: middle;\n",
       "    }\n",
       "\n",
       "    .dataframe tbody tr th {\n",
       "        vertical-align: top;\n",
       "    }\n",
       "\n",
       "    .dataframe thead th {\n",
       "        text-align: right;\n",
       "    }\n",
       "</style>\n",
       "<table border=\"1\" class=\"dataframe\">\n",
       "  <thead>\n",
       "    <tr style=\"text-align: right;\">\n",
       "      <th></th>\n",
       "      <th>PassengerId</th>\n",
       "      <th>Pclass</th>\n",
       "      <th>Name</th>\n",
       "      <th>Sex</th>\n",
       "      <th>Age</th>\n",
       "      <th>SibSp</th>\n",
       "      <th>Parch</th>\n",
       "      <th>Ticket</th>\n",
       "      <th>Fare</th>\n",
       "      <th>Cabin</th>\n",
       "      <th>Embarked</th>\n",
       "    </tr>\n",
       "  </thead>\n",
       "  <tbody>\n",
       "    <tr>\n",
       "      <th>0</th>\n",
       "      <td>892</td>\n",
       "      <td>3</td>\n",
       "      <td>Kelly, Mr. James</td>\n",
       "      <td>male</td>\n",
       "      <td>34.5</td>\n",
       "      <td>0</td>\n",
       "      <td>0</td>\n",
       "      <td>330911</td>\n",
       "      <td>7.8292</td>\n",
       "      <td>NaN</td>\n",
       "      <td>Q</td>\n",
       "    </tr>\n",
       "    <tr>\n",
       "      <th>1</th>\n",
       "      <td>893</td>\n",
       "      <td>3</td>\n",
       "      <td>Wilkes, Mrs. James (Ellen Needs)</td>\n",
       "      <td>female</td>\n",
       "      <td>47.0</td>\n",
       "      <td>1</td>\n",
       "      <td>0</td>\n",
       "      <td>363272</td>\n",
       "      <td>7.0000</td>\n",
       "      <td>NaN</td>\n",
       "      <td>S</td>\n",
       "    </tr>\n",
       "    <tr>\n",
       "      <th>2</th>\n",
       "      <td>894</td>\n",
       "      <td>2</td>\n",
       "      <td>Myles, Mr. Thomas Francis</td>\n",
       "      <td>male</td>\n",
       "      <td>62.0</td>\n",
       "      <td>0</td>\n",
       "      <td>0</td>\n",
       "      <td>240276</td>\n",
       "      <td>9.6875</td>\n",
       "      <td>NaN</td>\n",
       "      <td>Q</td>\n",
       "    </tr>\n",
       "    <tr>\n",
       "      <th>3</th>\n",
       "      <td>895</td>\n",
       "      <td>3</td>\n",
       "      <td>Wirz, Mr. Albert</td>\n",
       "      <td>male</td>\n",
       "      <td>27.0</td>\n",
       "      <td>0</td>\n",
       "      <td>0</td>\n",
       "      <td>315154</td>\n",
       "      <td>8.6625</td>\n",
       "      <td>NaN</td>\n",
       "      <td>S</td>\n",
       "    </tr>\n",
       "    <tr>\n",
       "      <th>4</th>\n",
       "      <td>896</td>\n",
       "      <td>3</td>\n",
       "      <td>Hirvonen, Mrs. Alexander (Helga E Lindqvist)</td>\n",
       "      <td>female</td>\n",
       "      <td>22.0</td>\n",
       "      <td>1</td>\n",
       "      <td>1</td>\n",
       "      <td>3101298</td>\n",
       "      <td>12.2875</td>\n",
       "      <td>NaN</td>\n",
       "      <td>S</td>\n",
       "    </tr>\n",
       "  </tbody>\n",
       "</table>\n",
       "</div>"
      ],
      "text/plain": [
       "   PassengerId  Pclass                                          Name     Sex  \\\n",
       "0          892       3                              Kelly, Mr. James    male   \n",
       "1          893       3              Wilkes, Mrs. James (Ellen Needs)  female   \n",
       "2          894       2                     Myles, Mr. Thomas Francis    male   \n",
       "3          895       3                              Wirz, Mr. Albert    male   \n",
       "4          896       3  Hirvonen, Mrs. Alexander (Helga E Lindqvist)  female   \n",
       "\n",
       "    Age  SibSp  Parch   Ticket     Fare Cabin Embarked  \n",
       "0  34.5      0      0   330911   7.8292   NaN        Q  \n",
       "1  47.0      1      0   363272   7.0000   NaN        S  \n",
       "2  62.0      0      0   240276   9.6875   NaN        Q  \n",
       "3  27.0      0      0   315154   8.6625   NaN        S  \n",
       "4  22.0      1      1  3101298  12.2875   NaN        S  "
      ]
     },
     "execution_count": 3,
     "metadata": {},
     "output_type": "execute_result"
    }
   ],
   "source": [
    "dataset_test = pd.read_csv(\"test.csv\")\n",
    "dataset_test.head()"
   ]
  },
  {
   "cell_type": "code",
   "execution_count": 4,
   "metadata": {},
   "outputs": [],
   "source": [
    "dataset_test['Age'] = dataset_test['Age'].fillna(dataset_test['Age'].mean())\n",
    "dataset_test['Fare'] = dataset_test['Fare'].fillna(dataset_test['Fare'].mean())"
   ]
  },
  {
   "cell_type": "code",
   "execution_count": 5,
   "metadata": {},
   "outputs": [
    {
     "data": {
      "text/plain": [
       "PassengerId      0\n",
       "Pclass           0\n",
       "Name             0\n",
       "Sex              0\n",
       "Age              0\n",
       "SibSp            0\n",
       "Parch            0\n",
       "Ticket           0\n",
       "Fare             0\n",
       "Cabin          327\n",
       "Embarked         0\n",
       "dtype: int64"
      ]
     },
     "execution_count": 5,
     "metadata": {},
     "output_type": "execute_result"
    }
   ],
   "source": [
    "dataset_test.isnull().sum()"
   ]
  },
  {
   "cell_type": "code",
   "execution_count": 6,
   "metadata": {},
   "outputs": [
    {
     "data": {
      "text/html": [
       "<div>\n",
       "<style scoped>\n",
       "    .dataframe tbody tr th:only-of-type {\n",
       "        vertical-align: middle;\n",
       "    }\n",
       "\n",
       "    .dataframe tbody tr th {\n",
       "        vertical-align: top;\n",
       "    }\n",
       "\n",
       "    .dataframe thead th {\n",
       "        text-align: right;\n",
       "    }\n",
       "</style>\n",
       "<table border=\"1\" class=\"dataframe\">\n",
       "  <thead>\n",
       "    <tr style=\"text-align: right;\">\n",
       "      <th></th>\n",
       "      <th>PassengerId</th>\n",
       "      <th>Survived</th>\n",
       "    </tr>\n",
       "  </thead>\n",
       "  <tbody>\n",
       "    <tr>\n",
       "      <th>0</th>\n",
       "      <td>892</td>\n",
       "      <td>0</td>\n",
       "    </tr>\n",
       "    <tr>\n",
       "      <th>1</th>\n",
       "      <td>893</td>\n",
       "      <td>1</td>\n",
       "    </tr>\n",
       "    <tr>\n",
       "      <th>2</th>\n",
       "      <td>894</td>\n",
       "      <td>0</td>\n",
       "    </tr>\n",
       "    <tr>\n",
       "      <th>3</th>\n",
       "      <td>895</td>\n",
       "      <td>0</td>\n",
       "    </tr>\n",
       "    <tr>\n",
       "      <th>4</th>\n",
       "      <td>896</td>\n",
       "      <td>1</td>\n",
       "    </tr>\n",
       "  </tbody>\n",
       "</table>\n",
       "</div>"
      ],
      "text/plain": [
       "   PassengerId  Survived\n",
       "0          892         0\n",
       "1          893         1\n",
       "2          894         0\n",
       "3          895         0\n",
       "4          896         1"
      ]
     },
     "execution_count": 6,
     "metadata": {},
     "output_type": "execute_result"
    }
   ],
   "source": [
    "gender = pd.read_csv('gender_submission.csv')\n",
    "gender.head()"
   ]
  },
  {
   "cell_type": "code",
   "execution_count": 7,
   "metadata": {},
   "outputs": [
    {
     "data": {
      "text/plain": [
       "(891, 12)"
      ]
     },
     "execution_count": 7,
     "metadata": {},
     "output_type": "execute_result"
    }
   ],
   "source": [
    "dataset.shape"
   ]
  },
  {
   "cell_type": "code",
   "execution_count": 8,
   "metadata": {},
   "outputs": [
    {
     "data": {
      "text/plain": [
       "PassengerId      int64\n",
       "Survived         int64\n",
       "Pclass           int64\n",
       "Name            object\n",
       "Sex             object\n",
       "Age            float64\n",
       "SibSp            int64\n",
       "Parch            int64\n",
       "Ticket          object\n",
       "Fare           float64\n",
       "Cabin           object\n",
       "Embarked        object\n",
       "dtype: object"
      ]
     },
     "execution_count": 8,
     "metadata": {},
     "output_type": "execute_result"
    }
   ],
   "source": [
    "dataset.dtypes"
   ]
  },
  {
   "cell_type": "code",
   "execution_count": 9,
   "metadata": {},
   "outputs": [],
   "source": [
    "dataset['Age'] = dataset['Age'].fillna(dataset['Age'].mean())\n",
    "dataset['Embarked'] = dataset['Embarked'].fillna('C')"
   ]
  },
  {
   "cell_type": "code",
   "execution_count": 10,
   "metadata": {},
   "outputs": [
    {
     "data": {
      "text/plain": [
       "PassengerId      0\n",
       "Survived         0\n",
       "Pclass           0\n",
       "Name             0\n",
       "Sex              0\n",
       "Age              0\n",
       "SibSp            0\n",
       "Parch            0\n",
       "Ticket           0\n",
       "Fare             0\n",
       "Cabin          687\n",
       "Embarked         0\n",
       "dtype: int64"
      ]
     },
     "execution_count": 10,
     "metadata": {},
     "output_type": "execute_result"
    }
   ],
   "source": [
    "dataset.isnull().sum()"
   ]
  },
  {
   "cell_type": "code",
   "execution_count": 11,
   "metadata": {},
   "outputs": [
    {
     "data": {
      "text/html": [
       "<div>\n",
       "<style scoped>\n",
       "    .dataframe tbody tr th:only-of-type {\n",
       "        vertical-align: middle;\n",
       "    }\n",
       "\n",
       "    .dataframe tbody tr th {\n",
       "        vertical-align: top;\n",
       "    }\n",
       "\n",
       "    .dataframe thead th {\n",
       "        text-align: right;\n",
       "    }\n",
       "</style>\n",
       "<table border=\"1\" class=\"dataframe\">\n",
       "  <thead>\n",
       "    <tr style=\"text-align: right;\">\n",
       "      <th></th>\n",
       "      <th>PassengerId</th>\n",
       "      <th>Survived</th>\n",
       "      <th>Pclass</th>\n",
       "      <th>Age</th>\n",
       "      <th>SibSp</th>\n",
       "      <th>Parch</th>\n",
       "      <th>Fare</th>\n",
       "    </tr>\n",
       "  </thead>\n",
       "  <tbody>\n",
       "    <tr>\n",
       "      <th>count</th>\n",
       "      <td>891.000000</td>\n",
       "      <td>891.000000</td>\n",
       "      <td>891.000000</td>\n",
       "      <td>891.000000</td>\n",
       "      <td>891.000000</td>\n",
       "      <td>891.000000</td>\n",
       "      <td>891.000000</td>\n",
       "    </tr>\n",
       "    <tr>\n",
       "      <th>mean</th>\n",
       "      <td>446.000000</td>\n",
       "      <td>0.383838</td>\n",
       "      <td>2.308642</td>\n",
       "      <td>29.699118</td>\n",
       "      <td>0.523008</td>\n",
       "      <td>0.381594</td>\n",
       "      <td>32.204208</td>\n",
       "    </tr>\n",
       "    <tr>\n",
       "      <th>std</th>\n",
       "      <td>257.353842</td>\n",
       "      <td>0.486592</td>\n",
       "      <td>0.836071</td>\n",
       "      <td>13.002015</td>\n",
       "      <td>1.102743</td>\n",
       "      <td>0.806057</td>\n",
       "      <td>49.693429</td>\n",
       "    </tr>\n",
       "    <tr>\n",
       "      <th>min</th>\n",
       "      <td>1.000000</td>\n",
       "      <td>0.000000</td>\n",
       "      <td>1.000000</td>\n",
       "      <td>0.420000</td>\n",
       "      <td>0.000000</td>\n",
       "      <td>0.000000</td>\n",
       "      <td>0.000000</td>\n",
       "    </tr>\n",
       "    <tr>\n",
       "      <th>25%</th>\n",
       "      <td>223.500000</td>\n",
       "      <td>0.000000</td>\n",
       "      <td>2.000000</td>\n",
       "      <td>22.000000</td>\n",
       "      <td>0.000000</td>\n",
       "      <td>0.000000</td>\n",
       "      <td>7.910400</td>\n",
       "    </tr>\n",
       "    <tr>\n",
       "      <th>50%</th>\n",
       "      <td>446.000000</td>\n",
       "      <td>0.000000</td>\n",
       "      <td>3.000000</td>\n",
       "      <td>29.699118</td>\n",
       "      <td>0.000000</td>\n",
       "      <td>0.000000</td>\n",
       "      <td>14.454200</td>\n",
       "    </tr>\n",
       "    <tr>\n",
       "      <th>75%</th>\n",
       "      <td>668.500000</td>\n",
       "      <td>1.000000</td>\n",
       "      <td>3.000000</td>\n",
       "      <td>35.000000</td>\n",
       "      <td>1.000000</td>\n",
       "      <td>0.000000</td>\n",
       "      <td>31.000000</td>\n",
       "    </tr>\n",
       "    <tr>\n",
       "      <th>max</th>\n",
       "      <td>891.000000</td>\n",
       "      <td>1.000000</td>\n",
       "      <td>3.000000</td>\n",
       "      <td>80.000000</td>\n",
       "      <td>8.000000</td>\n",
       "      <td>6.000000</td>\n",
       "      <td>512.329200</td>\n",
       "    </tr>\n",
       "  </tbody>\n",
       "</table>\n",
       "</div>"
      ],
      "text/plain": [
       "       PassengerId    Survived      Pclass         Age       SibSp  \\\n",
       "count   891.000000  891.000000  891.000000  891.000000  891.000000   \n",
       "mean    446.000000    0.383838    2.308642   29.699118    0.523008   \n",
       "std     257.353842    0.486592    0.836071   13.002015    1.102743   \n",
       "min       1.000000    0.000000    1.000000    0.420000    0.000000   \n",
       "25%     223.500000    0.000000    2.000000   22.000000    0.000000   \n",
       "50%     446.000000    0.000000    3.000000   29.699118    0.000000   \n",
       "75%     668.500000    1.000000    3.000000   35.000000    1.000000   \n",
       "max     891.000000    1.000000    3.000000   80.000000    8.000000   \n",
       "\n",
       "            Parch        Fare  \n",
       "count  891.000000  891.000000  \n",
       "mean     0.381594   32.204208  \n",
       "std      0.806057   49.693429  \n",
       "min      0.000000    0.000000  \n",
       "25%      0.000000    7.910400  \n",
       "50%      0.000000   14.454200  \n",
       "75%      0.000000   31.000000  \n",
       "max      6.000000  512.329200  "
      ]
     },
     "execution_count": 11,
     "metadata": {},
     "output_type": "execute_result"
    }
   ],
   "source": [
    "dataset.describe()"
   ]
  },
  {
   "cell_type": "code",
   "execution_count": 12,
   "metadata": {},
   "outputs": [
    {
     "data": {
      "text/plain": [
       "0    61.616162\n",
       "1    38.383838\n",
       "Name: Survived, dtype: float64"
      ]
     },
     "execution_count": 12,
     "metadata": {},
     "output_type": "execute_result"
    }
   ],
   "source": [
    "dataset.Survived.value_counts(normalize = True)*100"
   ]
  },
  {
   "cell_type": "code",
   "execution_count": 13,
   "metadata": {},
   "outputs": [
    {
     "data": {
      "text/plain": [
       "3    55.106622\n",
       "1    24.242424\n",
       "2    20.650954\n",
       "Name: Pclass, dtype: float64"
      ]
     },
     "execution_count": 13,
     "metadata": {},
     "output_type": "execute_result"
    }
   ],
   "source": [
    "dataset.Pclass.value_counts(normalize = True)*100"
   ]
  },
  {
   "cell_type": "code",
   "execution_count": 14,
   "metadata": {},
   "outputs": [
    {
     "data": {
      "text/plain": [
       "0    76.094276\n",
       "1    13.243547\n",
       "2     8.978676\n",
       "5     0.561167\n",
       "3     0.561167\n",
       "4     0.448934\n",
       "6     0.112233\n",
       "Name: Parch, dtype: float64"
      ]
     },
     "execution_count": 14,
     "metadata": {},
     "output_type": "execute_result"
    }
   ],
   "source": [
    "dataset.Parch.value_counts(normalize = True)*100"
   ]
  },
  {
   "cell_type": "code",
   "execution_count": 15,
   "metadata": {},
   "outputs": [],
   "source": [
    "dataset.Sex.value_counts(normalize = True)*100\n",
    "data_age= dataset['Age'].dropna() #Hust for visulaization purpose"
   ]
  },
  {
   "cell_type": "code",
   "execution_count": 16,
   "metadata": {},
   "outputs": [
    {
     "data": {
      "text/plain": [
       "<matplotlib.axes._subplots.AxesSubplot at 0x223fac60da0>"
      ]
     },
     "execution_count": 16,
     "metadata": {},
     "output_type": "execute_result"
    },
    {
     "data": {
      "image/png": "[encoded data removed]",
      "text/plain": [
       "<Figure size 1152x720 with 8 Axes>"
      ]
     },
     "metadata": {
      "needs_background": "light"
     },
     "output_type": "display_data"
    }
   ],
   "source": [
    "fig, axes = plt.subplots(2,4,figsize = (16,10), sharex = False, sharey = False)\n",
    "\n",
    "sns.countplot(x = 'Sex', data = dataset, ax = axes[0,0])\n",
    "sns.countplot(x = 'Survived', data = dataset, ax = axes[0,1])\n",
    "sns.countplot(x = 'Parch', data = dataset, ax = axes[0,2])\n",
    "sns.countplot(x = 'SibSp', data = dataset, ax = axes[0,3])\n",
    "sns.distplot(dataset['Fare'],ax = axes[1,0])\n",
    "sns.countplot(x = 'Embarked', data = dataset, ax = axes[1,1])\n",
    "sns.distplot(data_age, ax = axes[1,2])  #dropped all the NaN values and plotted the remaining float value\n",
    "sns.countplot(x = 'Pclass', data = dataset,ax = axes[1,3])"
   ]
  },
  {
   "cell_type": "code",
   "execution_count": 17,
   "metadata": {},
   "outputs": [],
   "source": [
    "dataset_corr = dataset.corr()"
   ]
  },
  {
   "cell_type": "code",
   "execution_count": 18,
   "metadata": {},
   "outputs": [
    {
     "data": {
      "text/plain": [
       "<matplotlib.axes._subplots.AxesSubplot at 0x223fa83fb00>"
      ]
     },
     "execution_count": 18,
     "metadata": {},
     "output_type": "execute_result"
    },
    {
     "data": {
      "image/png": "[encoded data removed]",
      "text/plain": [
       "<Figure size 720x504 with 2 Axes>"
      ]
     },
     "metadata": {
      "needs_background": "light"
     },
     "output_type": "display_data"
    }
   ],
   "source": [
    "plt.figure(figsize = (10,7))\n",
    "sns.heatmap(dataset_corr,annot = True)"
   ]
  },
  {
   "cell_type": "code",
   "execution_count": 19,
   "metadata": {},
   "outputs": [
    {
     "name": "stdout",
     "output_type": "stream",
     "text": [
      "male      64.758698\n",
      "female    35.241302\n",
      "Name: Sex, dtype: float64\n"
     ]
    },
    {
     "data": {
      "image/png": "[encoded data removed]",
      "text/plain": [
       "<Figure size 576x576 with 1 Axes>"
      ]
     },
     "metadata": {},
     "output_type": "display_data"
    }
   ],
   "source": [
    "#PIE chart visualization for Male-Female Percentage\n",
    "plt.figure(figsize = (8,8))\n",
    "plt.title('Percent Male-Female',fontsize = 30)\n",
    "x_sex,y_sex = dataset.Sex.value_counts(normalize = True)*100\n",
    "print(dataset.Sex.value_counts(normalize = True)*100)\n",
    "wedges= plt.pie([x_sex,y_sex], labels = ['Male','Female'], colors = ['green','blue'], autopct='%.2f%%', \n",
    "        textprops = {'color':'Black','size':20}, wedgeprops={'linewidth':2, 'edgecolor':'black'})\n",
    "plt.show()"
   ]
  },
  {
   "cell_type": "code",
   "execution_count": 20,
   "metadata": {},
   "outputs": [
    {
     "data": {
      "image/png": "[encoded data removed]",
      "text/plain": [
       "<Figure size 576x576 with 1 Axes>"
      ]
     },
     "metadata": {},
     "output_type": "display_data"
    }
   ],
   "source": [
    "#PIE chart visualization for Survived-Not Survived Percentage\n",
    "plt.figure(figsize = (8,8))\n",
    "plt.title('Percent Survived-Not Survived', fontsize = 30)\n",
    "x_surv, y_surv = dataset.Survived.value_counts(normalize = True)*100\n",
    "plt.pie([x_surv,y_surv], labels = ['Survived','Not Survived'], colors = ['green','blue'],  autopct='%.2f%%', \n",
    "        textprops = {'color':'Black','size':20}, wedgeprops={'linewidth':2, 'edgecolor':'black'})\n",
    "plt.show()"
   ]
  },
  {
   "cell_type": "code",
   "execution_count": 21,
   "metadata": {},
   "outputs": [
    {
     "data": {
      "text/plain": [
       "Text(0, 0.5, 'Count')"
      ]
     },
     "execution_count": 21,
     "metadata": {},
     "output_type": "execute_result"
    },
    {
     "data": {
      "image/png": "[encoded data removed]",
      "text/plain": [
       "<Figure size 720x504 with 1 Axes>"
      ]
     },
     "metadata": {
      "needs_background": "light"
     },
     "output_type": "display_data"
    }
   ],
   "source": [
    "# BAR distributions of Survived and Pclass to look for std deviation\n",
    "plt.figure(figsize = (10,7))\n",
    "plt.hist(dataset['Fare'], bins = 20, histtype = 'bar', edgecolor = 'Black')\n",
    "plt.title('Range of Fare value values VS Count', fontsize = 20)\n",
    "plt.xlabel('Range(Fare)', fontsize = 15)\n",
    "plt.ylabel('Count', fontsize = 15)"
   ]
  },
  {
   "cell_type": "code",
   "execution_count": 22,
   "metadata": {},
   "outputs": [
    {
     "data": {
      "text/plain": [
       "Text(0, 0.5, 'Count')"
      ]
     },
     "execution_count": 22,
     "metadata": {},
     "output_type": "execute_result"
    },
    {
     "data": {
      "image/png": "[encoded data removed]",
      "text/plain": [
       "<Figure size 720x504 with 1 Axes>"
      ]
     },
     "metadata": {
      "needs_background": "light"
     },
     "output_type": "display_data"
    }
   ],
   "source": [
    "plt.figure(figsize = (10,7))\n",
    "plt.hist(dataset['Age'], bins = 30, histtype = 'bar',edgecolor = 'Black')\n",
    "plt.title('Range of Age values VS Count(No of persons)', fontsize = 20)\n",
    "plt.xlabel('Range(AGE)', fontsize = 12)\n",
    "plt.ylabel('Count', fontsize = 12)"
   ]
  },
  {
   "cell_type": "code",
   "execution_count": 23,
   "metadata": {},
   "outputs": [
    {
     "name": "stdout",
     "output_type": "stream",
     "text": [
      "Sex\n",
      "female    44.479818\n",
      "male      25.523893\n",
      "Name: Fare, dtype: float64\n"
     ]
    },
    {
     "data": {
      "image/png": "[encoded data removed]",
      "text/plain": [
       "<Figure size 504x504 with 1 Axes>"
      ]
     },
     "metadata": {
      "needs_background": "light"
     },
     "output_type": "display_data"
    }
   ],
   "source": [
    "data_sur_fare = dataset.groupby('Sex').Fare.mean()\n",
    "print(data_sur_fare)\n",
    "ax_sur_fare = data_sur_fare.plot.bar(edgecolor = 'Black',fontsize = 12, figsize =(7,7), color = ['Red', 'Blue'])\n",
    "plt.title('Averge Fare for Males and Females', fontsize = 20)\n",
    "plt.ylabel('Avergae Fare', fontsize = 12)\n",
    "for i in ax_sur_fare.patches:\n",
    "    ax_sur_fare.text(i.get_x()+0.12, i.get_height() + 0.4, str(round(i.get_height(),2)) , fontsize = 15 , color = 'Black')"
   ]
  },
  {
   "cell_type": "code",
   "execution_count": 24,
   "metadata": {},
   "outputs": [
    {
     "data": {
      "text/plain": [
       "Text(0.5, 1.0, 'Survived VS SibSp')"
      ]
     },
     "execution_count": 24,
     "metadata": {},
     "output_type": "execute_result"
    },
    {
     "data": {
      "image/png": "[encoded data removed]",
      "text/plain": [
       "<Figure size 720x504 with 1 Axes>"
      ]
     },
     "metadata": {
      "needs_background": "light"
     },
     "output_type": "display_data"
    }
   ],
   "source": [
    "plt.figure(figsize = (10,7))\n",
    "sns.violinplot(dataset['Survived'], dataset['SibSp'], )\n",
    "plt.tick_params(labelsize = 13)\n",
    "plt.xlabel('Survived', fontdict={'fontsize':17})\n",
    "plt.ylabel('SibSp', fontdict = {'fontsize':17})\n",
    "plt.title('Survived VS SibSp', fontdict={'fontsize':20})"
   ]
  },
  {
   "cell_type": "code",
   "execution_count": 25,
   "metadata": {},
   "outputs": [
    {
     "data": {
      "text/plain": [
       "Text(0.5, 1.0, 'Average Age VS SibSp')"
      ]
     },
     "execution_count": 25,
     "metadata": {},
     "output_type": "execute_result"
    },
    {
     "data": {
      "image/png": "[encoded data removed]",
      "text/plain": [
       "<Figure size 1080x576 with 1 Axes>"
      ]
     },
     "metadata": {
      "needs_background": "light"
     },
     "output_type": "display_data"
    }
   ],
   "source": [
    "plt.figure(figsize = (15,8))\n",
    "axes= sns.barplot(x = sorted(dataset['SibSp'].unique()), y = 'Age', data = dataset[['Age', 'SibSp']].groupby('SibSp').mean())\n",
    "for ax in axes.patches:\n",
    "    plt.text(ax.get_x() + 0.25, ax.get_height() + 0.3, str(round(ax.get_height(), 2)), fontsize = 15)\n",
    "plt.xlabel('SibSp', fontdict = {'fontsize':15})\n",
    "plt.ylabel('Average Age', fontdict = {'fontsize':15})\n",
    "plt.tick_params(labelsize = 13)\n",
    "plt.title('Average Age VS SibSp', fontdict = {'fontsize':20})"
   ]
  },
  {
   "cell_type": "markdown",
   "metadata": {},
   "source": [
    "# MODEL PREPROCESSING"
   ]
  },
  {
   "cell_type": "code",
   "execution_count": 26,
   "metadata": {},
   "outputs": [],
   "source": [
    "drop_cols = ['PassengerId','Name','Ticket','Cabin']"
   ]
  },
  {
   "cell_type": "code",
   "execution_count": 27,
   "metadata": {},
   "outputs": [],
   "source": [
    "encode_cols = ['Sex','Embarked']"
   ]
  },
  {
   "cell_type": "code",
   "execution_count": 28,
   "metadata": {},
   "outputs": [],
   "source": [
    "encode_after = pd.get_dummies(dataset[encode_cols])"
   ]
  },
  {
   "cell_type": "code",
   "execution_count": 29,
   "metadata": {},
   "outputs": [
    {
     "data": {
      "text/plain": [
       "(891, 5)"
      ]
     },
     "execution_count": 29,
     "metadata": {},
     "output_type": "execute_result"
    }
   ],
   "source": [
    "encode_after.shape"
   ]
  },
  {
   "cell_type": "code",
   "execution_count": 30,
   "metadata": {},
   "outputs": [],
   "source": [
    "fin_data = dataset.copy()"
   ]
  },
  {
   "cell_type": "code",
   "execution_count": 31,
   "metadata": {},
   "outputs": [],
   "source": [
    "fin_data = fin_data.drop(drop_cols, axis = 1)"
   ]
  },
  {
   "cell_type": "code",
   "execution_count": 32,
   "metadata": {},
   "outputs": [],
   "source": [
    "fin_data = pd.concat([fin_data, encode_after], axis = 1)"
   ]
  },
  {
   "cell_type": "code",
   "execution_count": 33,
   "metadata": {},
   "outputs": [],
   "source": [
    "fin_data.drop(['Sex', 'Embarked'], axis = 1, inplace = True)"
   ]
  },
  {
   "cell_type": "code",
   "execution_count": 34,
   "metadata": {},
   "outputs": [],
   "source": [
    "encode_cols_teset = pd.get_dummies(dataset_test[encode_cols])"
   ]
  },
  {
   "cell_type": "code",
   "execution_count": 35,
   "metadata": {},
   "outputs": [],
   "source": [
    "fin_data_test = dataset_test.copy()"
   ]
  },
  {
   "cell_type": "code",
   "execution_count": 36,
   "metadata": {},
   "outputs": [
    {
     "data": {
      "text/plain": [
       "Index(['PassengerId', 'Pclass', 'Name', 'Sex', 'Age', 'SibSp', 'Parch',\n",
       "       'Ticket', 'Fare', 'Cabin', 'Embarked'],\n",
       "      dtype='object')"
      ]
     },
     "execution_count": 36,
     "metadata": {},
     "output_type": "execute_result"
    }
   ],
   "source": [
    "fin_data_test.columns"
   ]
  },
  {
   "cell_type": "code",
   "execution_count": 37,
   "metadata": {},
   "outputs": [],
   "source": [
    "fin_data_test = fin_data_test.drop(['PassengerId','Name','Cabin', 'Embarked','Ticket','Sex'],axis =1)"
   ]
  },
  {
   "cell_type": "code",
   "execution_count": 38,
   "metadata": {},
   "outputs": [],
   "source": [
    "fin_data_test = pd.concat([fin_data_test, encode_cols_teset], axis = 1)"
   ]
  },
  {
   "cell_type": "code",
   "execution_count": 39,
   "metadata": {},
   "outputs": [],
   "source": [
    "fin_data_test = fin_data_test[['Pclass', 'Age', 'SibSp', 'Parch', 'Fare', 'Sex_female',\n",
    "       'Sex_male', 'Embarked_C', 'Embarked_Q', 'Embarked_S']]"
   ]
  },
  {
   "cell_type": "code",
   "execution_count": 40,
   "metadata": {},
   "outputs": [
    {
     "data": {
      "text/html": [
       "<div>\n",
       "<style scoped>\n",
       "    .dataframe tbody tr th:only-of-type {\n",
       "        vertical-align: middle;\n",
       "    }\n",
       "\n",
       "    .dataframe tbody tr th {\n",
       "        vertical-align: top;\n",
       "    }\n",
       "\n",
       "    .dataframe thead th {\n",
       "        text-align: right;\n",
       "    }\n",
       "</style>\n",
       "<table border=\"1\" class=\"dataframe\">\n",
       "  <thead>\n",
       "    <tr style=\"text-align: right;\">\n",
       "      <th></th>\n",
       "      <th>Pclass</th>\n",
       "      <th>Age</th>\n",
       "      <th>SibSp</th>\n",
       "      <th>Parch</th>\n",
       "      <th>Fare</th>\n",
       "      <th>Sex_female</th>\n",
       "      <th>Sex_male</th>\n",
       "      <th>Embarked_C</th>\n",
       "      <th>Embarked_Q</th>\n",
       "      <th>Embarked_S</th>\n",
       "    </tr>\n",
       "  </thead>\n",
       "  <tbody>\n",
       "    <tr>\n",
       "      <th>0</th>\n",
       "      <td>3</td>\n",
       "      <td>34.5</td>\n",
       "      <td>0</td>\n",
       "      <td>0</td>\n",
       "      <td>7.8292</td>\n",
       "      <td>0</td>\n",
       "      <td>1</td>\n",
       "      <td>0</td>\n",
       "      <td>1</td>\n",
       "      <td>0</td>\n",
       "    </tr>\n",
       "    <tr>\n",
       "      <th>1</th>\n",
       "      <td>3</td>\n",
       "      <td>47.0</td>\n",
       "      <td>1</td>\n",
       "      <td>0</td>\n",
       "      <td>7.0000</td>\n",
       "      <td>1</td>\n",
       "      <td>0</td>\n",
       "      <td>0</td>\n",
       "      <td>0</td>\n",
       "      <td>1</td>\n",
       "    </tr>\n",
       "    <tr>\n",
       "      <th>2</th>\n",
       "      <td>2</td>\n",
       "      <td>62.0</td>\n",
       "      <td>0</td>\n",
       "      <td>0</td>\n",
       "      <td>9.6875</td>\n",
       "      <td>0</td>\n",
       "      <td>1</td>\n",
       "      <td>0</td>\n",
       "      <td>1</td>\n",
       "      <td>0</td>\n",
       "    </tr>\n",
       "    <tr>\n",
       "      <th>3</th>\n",
       "      <td>3</td>\n",
       "      <td>27.0</td>\n",
       "      <td>0</td>\n",
       "      <td>0</td>\n",
       "      <td>8.6625</td>\n",
       "      <td>0</td>\n",
       "      <td>1</td>\n",
       "      <td>0</td>\n",
       "      <td>0</td>\n",
       "      <td>1</td>\n",
       "    </tr>\n",
       "    <tr>\n",
       "      <th>4</th>\n",
       "      <td>3</td>\n",
       "      <td>22.0</td>\n",
       "      <td>1</td>\n",
       "      <td>1</td>\n",
       "      <td>12.2875</td>\n",
       "      <td>1</td>\n",
       "      <td>0</td>\n",
       "      <td>0</td>\n",
       "      <td>0</td>\n",
       "      <td>1</td>\n",
       "    </tr>\n",
       "  </tbody>\n",
       "</table>\n",
       "</div>"
      ],
      "text/plain": [
       "   Pclass   Age  SibSp  Parch     Fare  Sex_female  Sex_male  Embarked_C  \\\n",
       "0       3  34.5      0      0   7.8292           0         1           0   \n",
       "1       3  47.0      1      0   7.0000           1         0           0   \n",
       "2       2  62.0      0      0   9.6875           0         1           0   \n",
       "3       3  27.0      0      0   8.6625           0         1           0   \n",
       "4       3  22.0      1      1  12.2875           1         0           0   \n",
       "\n",
       "   Embarked_Q  Embarked_S  \n",
       "0           1           0  \n",
       "1           0           1  \n",
       "2           1           0  \n",
       "3           0           1  \n",
       "4           0           1  "
      ]
     },
     "execution_count": 40,
     "metadata": {},
     "output_type": "execute_result"
    }
   ],
   "source": [
    "fin_data_test.head()"
   ]
  },
  {
   "cell_type": "code",
   "execution_count": 41,
   "metadata": {},
   "outputs": [
    {
     "data": {
      "text/html": [
       "<div>\n",
       "<style scoped>\n",
       "    .dataframe tbody tr th:only-of-type {\n",
       "        vertical-align: middle;\n",
       "    }\n",
       "\n",
       "    .dataframe tbody tr th {\n",
       "        vertical-align: top;\n",
       "    }\n",
       "\n",
       "    .dataframe thead th {\n",
       "        text-align: right;\n",
       "    }\n",
       "</style>\n",
       "<table border=\"1\" class=\"dataframe\">\n",
       "  <thead>\n",
       "    <tr style=\"text-align: right;\">\n",
       "      <th></th>\n",
       "      <th>Survived</th>\n",
       "      <th>Pclass</th>\n",
       "      <th>Age</th>\n",
       "      <th>SibSp</th>\n",
       "      <th>Parch</th>\n",
       "      <th>Fare</th>\n",
       "      <th>Sex_female</th>\n",
       "      <th>Sex_male</th>\n",
       "      <th>Embarked_C</th>\n",
       "      <th>Embarked_Q</th>\n",
       "      <th>Embarked_S</th>\n",
       "    </tr>\n",
       "  </thead>\n",
       "  <tbody>\n",
       "    <tr>\n",
       "      <th>0</th>\n",
       "      <td>0</td>\n",
       "      <td>3</td>\n",
       "      <td>22.0</td>\n",
       "      <td>1</td>\n",
       "      <td>0</td>\n",
       "      <td>7.2500</td>\n",
       "      <td>0</td>\n",
       "      <td>1</td>\n",
       "      <td>0</td>\n",
       "      <td>0</td>\n",
       "      <td>1</td>\n",
       "    </tr>\n",
       "    <tr>\n",
       "      <th>1</th>\n",
       "      <td>1</td>\n",
       "      <td>1</td>\n",
       "      <td>38.0</td>\n",
       "      <td>1</td>\n",
       "      <td>0</td>\n",
       "      <td>71.2833</td>\n",
       "      <td>1</td>\n",
       "      <td>0</td>\n",
       "      <td>1</td>\n",
       "      <td>0</td>\n",
       "      <td>0</td>\n",
       "    </tr>\n",
       "    <tr>\n",
       "      <th>2</th>\n",
       "      <td>1</td>\n",
       "      <td>3</td>\n",
       "      <td>26.0</td>\n",
       "      <td>0</td>\n",
       "      <td>0</td>\n",
       "      <td>7.9250</td>\n",
       "      <td>1</td>\n",
       "      <td>0</td>\n",
       "      <td>0</td>\n",
       "      <td>0</td>\n",
       "      <td>1</td>\n",
       "    </tr>\n",
       "    <tr>\n",
       "      <th>3</th>\n",
       "      <td>1</td>\n",
       "      <td>1</td>\n",
       "      <td>35.0</td>\n",
       "      <td>1</td>\n",
       "      <td>0</td>\n",
       "      <td>53.1000</td>\n",
       "      <td>1</td>\n",
       "      <td>0</td>\n",
       "      <td>0</td>\n",
       "      <td>0</td>\n",
       "      <td>1</td>\n",
       "    </tr>\n",
       "    <tr>\n",
       "      <th>4</th>\n",
       "      <td>0</td>\n",
       "      <td>3</td>\n",
       "      <td>35.0</td>\n",
       "      <td>0</td>\n",
       "      <td>0</td>\n",
       "      <td>8.0500</td>\n",
       "      <td>0</td>\n",
       "      <td>1</td>\n",
       "      <td>0</td>\n",
       "      <td>0</td>\n",
       "      <td>1</td>\n",
       "    </tr>\n",
       "  </tbody>\n",
       "</table>\n",
       "</div>"
      ],
      "text/plain": [
       "   Survived  Pclass   Age  SibSp  Parch     Fare  Sex_female  Sex_male  \\\n",
       "0         0       3  22.0      1      0   7.2500           0         1   \n",
       "1         1       1  38.0      1      0  71.2833           1         0   \n",
       "2         1       3  26.0      0      0   7.9250           1         0   \n",
       "3         1       1  35.0      1      0  53.1000           1         0   \n",
       "4         0       3  35.0      0      0   8.0500           0         1   \n",
       "\n",
       "   Embarked_C  Embarked_Q  Embarked_S  \n",
       "0           0           0           1  \n",
       "1           1           0           0  \n",
       "2           0           0           1  \n",
       "3           0           0           1  \n",
       "4           0           0           1  "
      ]
     },
     "execution_count": 41,
     "metadata": {},
     "output_type": "execute_result"
    }
   ],
   "source": [
    "fin_data.head()"
   ]
  },
  {
   "cell_type": "code",
   "execution_count": 42,
   "metadata": {},
   "outputs": [],
   "source": [
    "X_train = fin_data.values[:,1:]\n",
    "Y_train = fin_data.values[:,0].reshape(891,1)"
   ]
  },
  {
   "cell_type": "code",
   "execution_count": 43,
   "metadata": {},
   "outputs": [],
   "source": [
    "X_test = fin_data_test.values[:,:]\n",
    "Y_test = gender.values[:,1:].reshape(418,1)"
   ]
  },
  {
   "cell_type": "markdown",
   "metadata": {},
   "source": [
    "# MODEL IMPLEMENTATION"
   ]
  },
  {
   "cell_type": "code",
   "execution_count": 44,
   "metadata": {},
   "outputs": [
    {
     "name": "stderr",
     "output_type": "stream",
     "text": [
      "C:\\Users\\kjkr3\\Anaconda3\\lib\\site-packages\\sklearn\\model_selection\\_search.py:813: DeprecationWarning: The default of the `iid` parameter will change from True to False in version 0.22 and will be removed in 0.24. This will change numeric results when test-set sizes are unequal.\n",
      "  DeprecationWarning)\n",
      "C:\\Users\\kjkr3\\Anaconda3\\lib\\site-packages\\sklearn\\utils\\validation.py:724: DataConversionWarning: A column-vector y was passed when a 1d array was expected. Please change the shape of y to (n_samples, ), for example using ravel().\n",
      "  y = column_or_1d(y, warn=True)\n"
     ]
    },
    {
     "data": {
      "text/plain": [
       "GridSearchCV(cv=10, error_score='raise-deprecating',\n",
       "             estimator=LogisticRegression(C=1.0, class_weight=None, dual=False,\n",
       "                                          fit_intercept=True,\n",
       "                                          intercept_scaling=1, l1_ratio=None,\n",
       "                                          max_iter=100, multi_class='warn',\n",
       "                                          n_jobs=None, penalty='l2',\n",
       "                                          random_state=None, solver='liblinear',\n",
       "                                          tol=0.0001, verbose=0,\n",
       "                                          warm_start=False),\n",
       "             iid='warn', n_jobs=-1,\n",
       "             param_grid={'C': [0.01, 0.1, 1, 10, 100], 'penalty': ['l1', 'l2']},\n",
       "             pre_dispatch='2*n_jobs', refit=True, return_train_score=False,\n",
       "             scoring='f1', verbose=0)"
      ]
     },
     "execution_count": 44,
     "metadata": {},
     "output_type": "execute_result"
    }
   ],
   "source": [
    "params = {'penalty':['l1','l2'], 'C':[0.01,0.1,1,10,100]}\n",
    "lr = LogisticRegression(solver = 'liblinear')\n",
    "grid = GridSearchCV(lr, param_grid=params, scoring ='f1', cv = 10, n_jobs=-1)\n",
    "grid.fit(X_train, Y_train)"
   ]
  },
  {
   "cell_type": "code",
   "execution_count": 45,
   "metadata": {},
   "outputs": [
    {
     "data": {
      "text/plain": [
       "{'C': 10, 'penalty': 'l1'}"
      ]
     },
     "execution_count": 45,
     "metadata": {},
     "output_type": "execute_result"
    }
   ],
   "source": [
    "grid.best_params_"
   ]
  },
  {
   "cell_type": "code",
   "execution_count": 46,
   "metadata": {},
   "outputs": [
    {
     "name": "stderr",
     "output_type": "stream",
     "text": [
      "C:\\Users\\kjkr3\\Anaconda3\\lib\\site-packages\\sklearn\\utils\\validation.py:724: DataConversionWarning: A column-vector y was passed when a 1d array was expected. Please change the shape of y to (n_samples, ), for example using ravel().\n",
      "  y = column_or_1d(y, warn=True)\n"
     ]
    }
   ],
   "source": [
    "lr = LogisticRegression(C = 10, penalty='l1', solver='liblinear')\n",
    "lr.fit(X_train, Y_train)\n",
    "predict = lr.predict(X_test)"
   ]
  },
  {
   "cell_type": "code",
   "execution_count": 47,
   "metadata": {},
   "outputs": [
    {
     "name": "stdout",
     "output_type": "stream",
     "text": [
      "Accuracy = 94.5%\n",
      "              precision    recall  f1-score   support\n",
      "\n",
      "           0       0.96      0.95      0.96       266\n",
      "           1       0.92      0.93      0.93       152\n",
      "\n",
      "    accuracy                           0.94       418\n",
      "   macro avg       0.94      0.94      0.94       418\n",
      "weighted avg       0.95      0.94      0.95       418\n",
      "\n",
      "Score = 0.9250814332247558\n",
      "[[253  13]\n",
      " [ 10 142]]\n"
     ]
    }
   ],
   "source": [
    "print(\"Accuracy = {0}%\".format(round(accuracy_score(Y_test, predict)*100, 2)))\n",
    "print(classification_report(Y_test, predict))\n",
    "print(\"Score = {0}\".format(f1_score(Y_test, predict)))\n",
    "print(confusion_matrix(Y_test, predict))"
   ]
  },
  {
   "cell_type": "markdown",
   "metadata": {},
   "source": [
    "# NN MODEL"
   ]
  },
  {
   "cell_type": "code",
   "execution_count": 50,
   "metadata": {},
   "outputs": [],
   "source": [
    "def model():\n",
    "    model = tf.keras.models.Sequential()\n",
    "    model.add(tf.keras.layers.Flatten())\n",
    "    model.add(tf.keras.layers.Dense(120, activation = tf.nn.relu, kernel_initializer = 'normal'))\n",
    "    model.add(tf.keras.layers.Dense(120, activation = tf.nn.relu, kernel_initializer = 'normal'))\n",
    "    model.add(tf.keras.layers.Dense(120, activation = tf.nn.relu, kernel_initializer = 'normal'))\n",
    "    model.add(tf.keras.layers.Dense(120, activation = tf.nn.relu, kernel_initializer = 'normal'))\n",
    "    model.add(tf.keras.layers.Dense(1, activation = tf.nn.sigmoid))\n",
    "    model.compile(loss = 'binary_crossentropy', optimizer = 'adam', metrics = ['accuracy'])\n",
    "    return model"
   ]
  },
  {
   "cell_type": "code",
   "execution_count": 51,
   "metadata": {},
   "outputs": [
    {
     "name": "stderr",
     "output_type": "stream",
     "text": [
      "WARNING: Logging before flag parsing goes to stderr.\n",
      "W0825 19:50:21.484835  4164 deprecation.py:506] From C:\\Users\\kjkr3\\Anaconda3\\lib\\site-packages\\tensorflow\\python\\keras\\initializers.py:143: calling RandomNormal.__init__ (from tensorflow.python.ops.init_ops) with dtype is deprecated and will be removed in a future version.\n",
      "Instructions for updating:\n",
      "Call initializer instance with the dtype argument instead of passing it to the constructor\n",
      "W0825 19:50:21.487827  4164 deprecation.py:506] From C:\\Users\\kjkr3\\Anaconda3\\lib\\site-packages\\tensorflow\\python\\ops\\init_ops.py:1251: calling VarianceScaling.__init__ (from tensorflow.python.ops.init_ops) with dtype is deprecated and will be removed in a future version.\n",
      "Instructions for updating:\n",
      "Call initializer instance with the dtype argument instead of passing it to the constructor\n",
      "W0825 19:50:21.682035  4164 deprecation.py:323] From C:\\Users\\kjkr3\\Anaconda3\\lib\\site-packages\\tensorflow\\python\\ops\\nn_impl.py:180: add_dispatch_support.<locals>.wrapper (from tensorflow.python.ops.array_ops) is deprecated and will be removed in a future version.\n",
      "Instructions for updating:\n",
      "Use tf.where in 2.0, which has the same broadcast rule as np.where\n"
     ]
    },
    {
     "name": "stdout",
     "output_type": "stream",
     "text": [
      "Epoch 1/500\n",
      "891/891 [==============================] - 1s 653us/sample - loss: 0.6194 - acc: 0.6756\n",
      "Epoch 2/500\n",
      "891/891 [==============================] - 0s 106us/sample - loss: 0.6020 - acc: 0.6734\n",
      "Epoch 3/500\n",
      "891/891 [==============================] - 0s 103us/sample - loss: 0.5915 - acc: 0.6857\n",
      "Epoch 4/500\n",
      "891/891 [==============================] - 0s 116us/sample - loss: 0.5653 - acc: 0.6936\n",
      "Epoch 5/500\n",
      "891/891 [==============================] - 0s 114us/sample - loss: 0.5536 - acc: 0.7015\n",
      "Epoch 6/500\n",
      "891/891 [==============================] - 0s 114us/sample - loss: 0.5259 - acc: 0.7407\n",
      "Epoch 7/500\n",
      "891/891 [==============================] - 0s 110us/sample - loss: 0.4832 - acc: 0.7969\n",
      "Epoch 8/500\n",
      "891/891 [==============================] - 0s 111us/sample - loss: 0.4797 - acc: 0.7834\n",
      "Epoch 9/500\n",
      "891/891 [==============================] - 0s 115us/sample - loss: 0.4677 - acc: 0.7890\n",
      "Epoch 10/500\n",
      "891/891 [==============================] - 0s 122us/sample - loss: 0.4632 - acc: 0.7946\n",
      "Epoch 11/500\n",
      "891/891 [==============================] - 0s 110us/sample - loss: 0.4618 - acc: 0.8047\n",
      "Epoch 12/500\n",
      "891/891 [==============================] - 0s 105us/sample - loss: 0.4313 - acc: 0.8159\n",
      "Epoch 13/500\n",
      "891/891 [==============================] - 0s 96us/sample - loss: 0.4685 - acc: 0.7890\n",
      "Epoch 14/500\n",
      "891/891 [==============================] - 0s 102us/sample - loss: 0.4465 - acc: 0.8058\n",
      "Epoch 15/500\n",
      "891/891 [==============================] - 0s 99us/sample - loss: 0.4320 - acc: 0.8159\n",
      "Epoch 16/500\n",
      "891/891 [==============================] - 0s 96us/sample - loss: 0.4337 - acc: 0.8238\n",
      "Epoch 17/500\n",
      "891/891 [==============================] - 0s 97us/sample - loss: 0.4249 - acc: 0.8148\n",
      "Epoch 18/500\n",
      "891/891 [==============================] - 0s 97us/sample - loss: 0.4244 - acc: 0.8103\n",
      "Epoch 19/500\n",
      "891/891 [==============================] - 0s 100us/sample - loss: 0.4226 - acc: 0.8103\n",
      "Epoch 20/500\n",
      "891/891 [==============================] - 0s 102us/sample - loss: 0.4338 - acc: 0.8047\n",
      "Epoch 21/500\n",
      "891/891 [==============================] - 0s 102us/sample - loss: 0.4197 - acc: 0.8204\n",
      "Epoch 22/500\n",
      "891/891 [==============================] - 0s 101us/sample - loss: 0.4108 - acc: 0.8238\n",
      "Epoch 23/500\n",
      "891/891 [==============================] - 0s 100us/sample - loss: 0.4036 - acc: 0.8283\n",
      "Epoch 24/500\n",
      "891/891 [==============================] - 0s 97us/sample - loss: 0.4022 - acc: 0.8305\n",
      "Epoch 25/500\n",
      "891/891 [==============================] - 0s 97us/sample - loss: 0.4205 - acc: 0.8126\n",
      "Epoch 26/500\n",
      "891/891 [==============================] - 0s 111us/sample - loss: 0.3971 - acc: 0.8283\n",
      "Epoch 27/500\n",
      "891/891 [==============================] - 0s 96us/sample - loss: 0.4043 - acc: 0.8215\n",
      "Epoch 28/500\n",
      "891/891 [==============================] - 0s 95us/sample - loss: 0.4088 - acc: 0.8238\n",
      "Epoch 29/500\n",
      "891/891 [==============================] - 0s 99us/sample - loss: 0.4089 - acc: 0.8249\n",
      "Epoch 30/500\n",
      "891/891 [==============================] - 0s 100us/sample - loss: 0.4048 - acc: 0.8249\n",
      "Epoch 31/500\n",
      "891/891 [==============================] - 0s 99us/sample - loss: 0.4019 - acc: 0.8238\n",
      "Epoch 32/500\n",
      "891/891 [==============================] - 0s 99us/sample - loss: 0.4042 - acc: 0.8238\n",
      "Epoch 33/500\n",
      "891/891 [==============================] - 0s 98us/sample - loss: 0.4032 - acc: 0.8193\n",
      "Epoch 34/500\n",
      "891/891 [==============================] - 0s 98us/sample - loss: 0.4026 - acc: 0.8305\n",
      "Epoch 35/500\n",
      "891/891 [==============================] - 0s 101us/sample - loss: 0.4039 - acc: 0.8204\n",
      "Epoch 36/500\n",
      "891/891 [==============================] - 0s 97us/sample - loss: 0.3940 - acc: 0.8316\n",
      "Epoch 37/500\n",
      "891/891 [==============================] - 0s 97us/sample - loss: 0.3885 - acc: 0.8339\n",
      "Epoch 38/500\n",
      "891/891 [==============================] - 0s 103us/sample - loss: 0.3900 - acc: 0.8249\n",
      "Epoch 39/500\n",
      "891/891 [==============================] - 0s 102us/sample - loss: 0.3868 - acc: 0.8328\n",
      "Epoch 40/500\n",
      "891/891 [==============================] - 0s 103us/sample - loss: 0.3820 - acc: 0.8350\n",
      "Epoch 41/500\n",
      "891/891 [==============================] - 0s 101us/sample - loss: 0.3881 - acc: 0.8272\n",
      "Epoch 42/500\n",
      "891/891 [==============================] - 0s 99us/sample - loss: 0.3855 - acc: 0.8305\n",
      "Epoch 43/500\n",
      "891/891 [==============================] - 0s 103us/sample - loss: 0.3858 - acc: 0.8373\n",
      "Epoch 44/500\n",
      "891/891 [==============================] - 0s 102us/sample - loss: 0.3881 - acc: 0.8316\n",
      "Epoch 45/500\n",
      "891/891 [==============================] - 0s 105us/sample - loss: 0.3874 - acc: 0.8339\n",
      "Epoch 46/500\n",
      "891/891 [==============================] - 0s 105us/sample - loss: 0.4032 - acc: 0.8193\n",
      "Epoch 47/500\n",
      "891/891 [==============================] - 0s 97us/sample - loss: 0.3844 - acc: 0.8283\n",
      "Epoch 48/500\n",
      "891/891 [==============================] - 0s 96us/sample - loss: 0.3791 - acc: 0.8272\n",
      "Epoch 49/500\n",
      "891/891 [==============================] - 0s 102us/sample - loss: 0.3756 - acc: 0.8395\n",
      "Epoch 50/500\n",
      "891/891 [==============================] - 0s 103us/sample - loss: 0.3718 - acc: 0.8418\n",
      "Epoch 51/500\n",
      "891/891 [==============================] - 0s 113us/sample - loss: 0.3852 - acc: 0.8260\n",
      "Epoch 52/500\n",
      "891/891 [==============================] - 0s 116us/sample - loss: 0.3824 - acc: 0.8406\n",
      "Epoch 53/500\n",
      "891/891 [==============================] - 0s 110us/sample - loss: 0.3744 - acc: 0.8328\n",
      "Epoch 54/500\n",
      "891/891 [==============================] - 0s 103us/sample - loss: 0.3714 - acc: 0.8418\n",
      "Epoch 55/500\n",
      "891/891 [==============================] - 0s 112us/sample - loss: 0.3660 - acc: 0.8361\n",
      "Epoch 56/500\n",
      "891/891 [==============================] - 0s 107us/sample - loss: 0.3672 - acc: 0.8361\n",
      "Epoch 57/500\n",
      "891/891 [==============================] - 0s 106us/sample - loss: 0.3719 - acc: 0.8406\n",
      "Epoch 58/500\n",
      "891/891 [==============================] - 0s 100us/sample - loss: 0.3668 - acc: 0.8350\n",
      "Epoch 59/500\n",
      "891/891 [==============================] - 0s 106us/sample - loss: 0.3721 - acc: 0.8316\n",
      "Epoch 60/500\n",
      "891/891 [==============================] - 0s 96us/sample - loss: 0.3627 - acc: 0.8373\n",
      "Epoch 61/500\n",
      "891/891 [==============================] - 0s 95us/sample - loss: 0.3686 - acc: 0.8440\n",
      "Epoch 62/500\n",
      "891/891 [==============================] - 0s 99us/sample - loss: 0.3669 - acc: 0.8361\n",
      "Epoch 63/500\n",
      "891/891 [==============================] - 0s 102us/sample - loss: 0.3691 - acc: 0.8316\n",
      "Epoch 64/500\n",
      "891/891 [==============================] - 0s 106us/sample - loss: 0.3682 - acc: 0.8429\n",
      "Epoch 65/500\n",
      "891/891 [==============================] - 0s 114us/sample - loss: 0.3729 - acc: 0.8350\n",
      "Epoch 66/500\n",
      "891/891 [==============================] - 0s 109us/sample - loss: 0.3584 - acc: 0.8395\n",
      "Epoch 67/500\n",
      "891/891 [==============================] - 0s 106us/sample - loss: 0.3586 - acc: 0.8339\n",
      "Epoch 68/500\n",
      "891/891 [==============================] - 0s 102us/sample - loss: 0.3521 - acc: 0.8440\n",
      "Epoch 69/500\n",
      "891/891 [==============================] - 0s 110us/sample - loss: 0.3598 - acc: 0.8440\n",
      "Epoch 70/500\n",
      "891/891 [==============================] - 0s 103us/sample - loss: 0.3651 - acc: 0.8474\n",
      "Epoch 71/500\n",
      "891/891 [==============================] - 0s 104us/sample - loss: 0.3705 - acc: 0.8339\n",
      "Epoch 72/500\n",
      "891/891 [==============================] - 0s 106us/sample - loss: 0.3684 - acc: 0.8384\n",
      "Epoch 73/500\n",
      "891/891 [==============================] - 0s 103us/sample - loss: 0.3700 - acc: 0.8316\n",
      "Epoch 74/500\n",
      "891/891 [==============================] - 0s 101us/sample - loss: 0.3500 - acc: 0.8485\n",
      "Epoch 75/500\n",
      "891/891 [==============================] - 0s 100us/sample - loss: 0.3732 - acc: 0.8429\n",
      "Epoch 76/500\n",
      "891/891 [==============================] - 0s 103us/sample - loss: 0.3568 - acc: 0.8440\n",
      "Epoch 77/500\n",
      "891/891 [==============================] - 0s 100us/sample - loss: 0.3498 - acc: 0.8429\n",
      "Epoch 78/500\n",
      "891/891 [==============================] - 0s 99us/sample - loss: 0.3555 - acc: 0.8384\n",
      "Epoch 79/500\n",
      "891/891 [==============================] - 0s 95us/sample - loss: 0.3657 - acc: 0.8283\n",
      "Epoch 80/500\n",
      "891/891 [==============================] - 0s 101us/sample - loss: 0.3638 - acc: 0.8429\n",
      "Epoch 81/500\n",
      "891/891 [==============================] - 0s 106us/sample - loss: 0.3604 - acc: 0.8451\n",
      "Epoch 82/500\n"
     ]
    },
    {
     "name": "stdout",
     "output_type": "stream",
     "text": [
      "891/891 [==============================] - 0s 107us/sample - loss: 0.3456 - acc: 0.8563\n",
      "Epoch 83/500\n",
      "891/891 [==============================] - 0s 99us/sample - loss: 0.3372 - acc: 0.8496\n",
      "Epoch 84/500\n",
      "891/891 [==============================] - 0s 100us/sample - loss: 0.3553 - acc: 0.8406\n",
      "Epoch 85/500\n",
      "891/891 [==============================] - 0s 100us/sample - loss: 0.3499 - acc: 0.8440\n",
      "Epoch 86/500\n",
      "891/891 [==============================] - 0s 97us/sample - loss: 0.3387 - acc: 0.8507\n",
      "Epoch 87/500\n",
      "891/891 [==============================] - 0s 97us/sample - loss: 0.3332 - acc: 0.8597\n",
      "Epoch 88/500\n",
      "891/891 [==============================] - 0s 99us/sample - loss: 0.3316 - acc: 0.8586\n",
      "Epoch 89/500\n",
      "891/891 [==============================] - 0s 102us/sample - loss: 0.3390 - acc: 0.8519\n",
      "Epoch 90/500\n",
      "891/891 [==============================] - 0s 103us/sample - loss: 0.3374 - acc: 0.8620\n",
      "Epoch 91/500\n",
      "891/891 [==============================] - 0s 95us/sample - loss: 0.3443 - acc: 0.8552\n",
      "Epoch 92/500\n",
      "891/891 [==============================] - 0s 94us/sample - loss: 0.3492 - acc: 0.8418\n",
      "Epoch 93/500\n",
      "891/891 [==============================] - 0s 104us/sample - loss: 0.3456 - acc: 0.8462\n",
      "Epoch 94/500\n",
      "891/891 [==============================] - 0s 106us/sample - loss: 0.3506 - acc: 0.8451\n",
      "Epoch 95/500\n",
      "891/891 [==============================] - 0s 96us/sample - loss: 0.3512 - acc: 0.8496\n",
      "Epoch 96/500\n",
      "891/891 [==============================] - 0s 101us/sample - loss: 0.3381 - acc: 0.8519\n",
      "Epoch 97/500\n",
      "891/891 [==============================] - 0s 100us/sample - loss: 0.3313 - acc: 0.8631\n",
      "Epoch 98/500\n",
      "891/891 [==============================] - 0s 95us/sample - loss: 0.3258 - acc: 0.8642\n",
      "Epoch 99/500\n",
      "891/891 [==============================] - 0s 98us/sample - loss: 0.3282 - acc: 0.8586\n",
      "Epoch 100/500\n",
      "891/891 [==============================] - 0s 99us/sample - loss: 0.3315 - acc: 0.8541\n",
      "Epoch 101/500\n",
      "891/891 [==============================] - 0s 97us/sample - loss: 0.3605 - acc: 0.8384\n",
      "Epoch 102/500\n",
      "891/891 [==============================] - 0s 95us/sample - loss: 0.3457 - acc: 0.8496\n",
      "Epoch 103/500\n",
      "891/891 [==============================] - 0s 97us/sample - loss: 0.3577 - acc: 0.8395\n",
      "Epoch 104/500\n",
      "891/891 [==============================] - 0s 101us/sample - loss: 0.3462 - acc: 0.8373\n",
      "Epoch 105/500\n",
      "891/891 [==============================] - 0s 97us/sample - loss: 0.3270 - acc: 0.8620\n",
      "Epoch 106/500\n",
      "891/891 [==============================] - 0s 96us/sample - loss: 0.3212 - acc: 0.8721\n",
      "Epoch 107/500\n",
      "891/891 [==============================] - 0s 100us/sample - loss: 0.3299 - acc: 0.8563\n",
      "Epoch 108/500\n",
      "891/891 [==============================] - 0s 97us/sample - loss: 0.3332 - acc: 0.8631\n",
      "Epoch 109/500\n",
      "891/891 [==============================] - 0s 94us/sample - loss: 0.3236 - acc: 0.8608\n",
      "Epoch 110/500\n",
      "891/891 [==============================] - 0s 97us/sample - loss: 0.3254 - acc: 0.8519\n",
      "Epoch 111/500\n",
      "891/891 [==============================] - 0s 97us/sample - loss: 0.3230 - acc: 0.8608\n",
      "Epoch 112/500\n",
      "891/891 [==============================] - 0s 94us/sample - loss: 0.3258 - acc: 0.8620\n",
      "Epoch 113/500\n",
      "891/891 [==============================] - 0s 100us/sample - loss: 0.3269 - acc: 0.8597\n",
      "Epoch 114/500\n",
      "891/891 [==============================] - 0s 97us/sample - loss: 0.3195 - acc: 0.8676\n",
      "Epoch 115/500\n",
      "891/891 [==============================] - 0s 95us/sample - loss: 0.3186 - acc: 0.8563\n",
      "Epoch 116/500\n",
      "891/891 [==============================] - 0s 141us/sample - loss: 0.3231 - acc: 0.8664\n",
      "Epoch 117/500\n",
      "891/891 [==============================] - 0s 121us/sample - loss: 0.3083 - acc: 0.8721\n",
      "Epoch 118/500\n",
      "891/891 [==============================] - 0s 118us/sample - loss: 0.3010 - acc: 0.8676\n",
      "Epoch 119/500\n",
      "891/891 [==============================] - 0s 132us/sample - loss: 0.3480 - acc: 0.8563\n",
      "Epoch 120/500\n",
      "891/891 [==============================] - 0s 109us/sample - loss: 0.3296 - acc: 0.8608\n",
      "Epoch 121/500\n",
      "891/891 [==============================] - 0s 103us/sample - loss: 0.3270 - acc: 0.8586\n",
      "Epoch 122/500\n",
      "891/891 [==============================] - 0s 100us/sample - loss: 0.3395 - acc: 0.8597\n",
      "Epoch 123/500\n",
      "891/891 [==============================] - 0s 100us/sample - loss: 0.3278 - acc: 0.8507\n",
      "Epoch 124/500\n",
      "891/891 [==============================] - 0s 105us/sample - loss: 0.3090 - acc: 0.8631\n",
      "Epoch 125/500\n",
      "891/891 [==============================] - 0s 102us/sample - loss: 0.3119 - acc: 0.8732\n",
      "Epoch 126/500\n",
      "891/891 [==============================] - 0s 112us/sample - loss: 0.3054 - acc: 0.8732\n",
      "Epoch 127/500\n",
      "891/891 [==============================] - 0s 104us/sample - loss: 0.3150 - acc: 0.8642\n",
      "Epoch 128/500\n",
      "891/891 [==============================] - 0s 106us/sample - loss: 0.3138 - acc: 0.8698\n",
      "Epoch 129/500\n",
      "891/891 [==============================] - 0s 107us/sample - loss: 0.3019 - acc: 0.8631\n",
      "Epoch 130/500\n",
      "891/891 [==============================] - 0s 107us/sample - loss: 0.2970 - acc: 0.8822\n",
      "Epoch 131/500\n",
      "891/891 [==============================] - 0s 101us/sample - loss: 0.3063 - acc: 0.8698\n",
      "Epoch 132/500\n",
      "891/891 [==============================] - 0s 102us/sample - loss: 0.2980 - acc: 0.8721\n",
      "Epoch 133/500\n",
      "891/891 [==============================] - 0s 106us/sample - loss: 0.3011 - acc: 0.8810\n",
      "Epoch 134/500\n",
      "891/891 [==============================] - 0s 106us/sample - loss: 0.3078 - acc: 0.8653\n",
      "Epoch 135/500\n",
      "891/891 [==============================] - 0s 105us/sample - loss: 0.3068 - acc: 0.8620\n",
      "Epoch 136/500\n",
      "891/891 [==============================] - 0s 109us/sample - loss: 0.3286 - acc: 0.8608\n",
      "Epoch 137/500\n",
      "891/891 [==============================] - 0s 105us/sample - loss: 0.3365 - acc: 0.8608\n",
      "Epoch 138/500\n",
      "891/891 [==============================] - 0s 101us/sample - loss: 0.3231 - acc: 0.8474\n",
      "Epoch 139/500\n",
      "891/891 [==============================] - 0s 103us/sample - loss: 0.3173 - acc: 0.8597\n",
      "Epoch 140/500\n",
      "891/891 [==============================] - 0s 103us/sample - loss: 0.3024 - acc: 0.8653\n",
      "Epoch 141/500\n",
      "891/891 [==============================] - 0s 105us/sample - loss: 0.3101 - acc: 0.8653\n",
      "Epoch 142/500\n",
      "891/891 [==============================] - 0s 98us/sample - loss: 0.3161 - acc: 0.8664\n",
      "Epoch 143/500\n",
      "891/891 [==============================] - 0s 103us/sample - loss: 0.3009 - acc: 0.8732\n",
      "Epoch 144/500\n",
      "891/891 [==============================] - 0s 101us/sample - loss: 0.3076 - acc: 0.8743\n",
      "Epoch 145/500\n",
      "891/891 [==============================] - 0s 100us/sample - loss: 0.2978 - acc: 0.8698\n",
      "Epoch 146/500\n",
      "891/891 [==============================] - 0s 101us/sample - loss: 0.2902 - acc: 0.8788\n",
      "Epoch 147/500\n",
      "891/891 [==============================] - 0s 102us/sample - loss: 0.2958 - acc: 0.8743\n",
      "Epoch 148/500\n",
      "891/891 [==============================] - 0s 115us/sample - loss: 0.3473 - acc: 0.8429\n",
      "Epoch 149/500\n",
      "891/891 [==============================] - 0s 99us/sample - loss: 0.3230 - acc: 0.8642\n",
      "Epoch 150/500\n",
      "891/891 [==============================] - 0s 100us/sample - loss: 0.3331 - acc: 0.8507\n",
      "Epoch 151/500\n",
      "891/891 [==============================] - 0s 102us/sample - loss: 0.3022 - acc: 0.8698\n",
      "Epoch 152/500\n",
      "891/891 [==============================] - 0s 103us/sample - loss: 0.2898 - acc: 0.8698\n",
      "Epoch 153/500\n",
      "891/891 [==============================] - 0s 104us/sample - loss: 0.2959 - acc: 0.8676\n",
      "Epoch 154/500\n",
      "891/891 [==============================] - 0s 102us/sample - loss: 0.2863 - acc: 0.8844\n",
      "Epoch 155/500\n",
      "891/891 [==============================] - 0s 97us/sample - loss: 0.2969 - acc: 0.8765\n",
      "Epoch 156/500\n",
      "891/891 [==============================] - 0s 95us/sample - loss: 0.2903 - acc: 0.8777\n",
      "Epoch 157/500\n",
      "891/891 [==============================] - 0s 100us/sample - loss: 0.2952 - acc: 0.8732\n",
      "Epoch 158/500\n",
      "891/891 [==============================] - 0s 100us/sample - loss: 0.2967 - acc: 0.8676\n",
      "Epoch 159/500\n",
      "891/891 [==============================] - 0s 105us/sample - loss: 0.3034 - acc: 0.8631\n",
      "Epoch 160/500\n",
      "891/891 [==============================] - 0s 101us/sample - loss: 0.3030 - acc: 0.8799\n",
      "Epoch 161/500\n",
      "891/891 [==============================] - 0s 103us/sample - loss: 0.2813 - acc: 0.8866\n",
      "Epoch 162/500\n"
     ]
    },
    {
     "name": "stdout",
     "output_type": "stream",
     "text": [
      "891/891 [==============================] - 0s 96us/sample - loss: 0.2837 - acc: 0.8810\n",
      "Epoch 163/500\n",
      "891/891 [==============================] - 0s 96us/sample - loss: 0.2769 - acc: 0.8844\n",
      "Epoch 164/500\n",
      "891/891 [==============================] - 0s 92us/sample - loss: 0.2789 - acc: 0.8889\n",
      "Epoch 165/500\n",
      "891/891 [==============================] - 0s 96us/sample - loss: 0.2744 - acc: 0.8833\n",
      "Epoch 166/500\n",
      "891/891 [==============================] - 0s 95us/sample - loss: 0.2757 - acc: 0.8833\n",
      "Epoch 167/500\n",
      "891/891 [==============================] - 0s 94us/sample - loss: 0.3036 - acc: 0.8687\n",
      "Epoch 168/500\n",
      "891/891 [==============================] - 0s 96us/sample - loss: 0.2863 - acc: 0.8799\n",
      "Epoch 169/500\n",
      "891/891 [==============================] - 0s 95us/sample - loss: 0.2812 - acc: 0.8799\n",
      "Epoch 170/500\n",
      "891/891 [==============================] - 0s 97us/sample - loss: 0.2668 - acc: 0.8822\n",
      "Epoch 171/500\n",
      "891/891 [==============================] - 0s 102us/sample - loss: 0.2689 - acc: 0.8844\n",
      "Epoch 172/500\n",
      "891/891 [==============================] - 0s 100us/sample - loss: 0.2758 - acc: 0.8777\n",
      "Epoch 173/500\n",
      "891/891 [==============================] - 0s 95us/sample - loss: 0.2953 - acc: 0.8732\n",
      "Epoch 174/500\n",
      "891/891 [==============================] - 0s 95us/sample - loss: 0.2738 - acc: 0.8743\n",
      "Epoch 175/500\n",
      "891/891 [==============================] - 0s 95us/sample - loss: 0.2701 - acc: 0.8878\n",
      "Epoch 176/500\n",
      "891/891 [==============================] - 0s 104us/sample - loss: 0.2663 - acc: 0.8878\n",
      "Epoch 177/500\n",
      "891/891 [==============================] - 0s 93us/sample - loss: 0.2659 - acc: 0.8900\n",
      "Epoch 178/500\n",
      "891/891 [==============================] - 0s 96us/sample - loss: 0.2655 - acc: 0.8844\n",
      "Epoch 179/500\n",
      "891/891 [==============================] - 0s 99us/sample - loss: 0.2770 - acc: 0.8777\n",
      "Epoch 180/500\n",
      "891/891 [==============================] - 0s 96us/sample - loss: 0.2817 - acc: 0.8855\n",
      "Epoch 181/500\n",
      "891/891 [==============================] - 0s 97us/sample - loss: 0.2711 - acc: 0.8799\n",
      "Epoch 182/500\n",
      "891/891 [==============================] - 0s 94us/sample - loss: 0.2642 - acc: 0.8889\n",
      "Epoch 183/500\n",
      "891/891 [==============================] - 0s 103us/sample - loss: 0.2557 - acc: 0.8934\n",
      "Epoch 184/500\n",
      "891/891 [==============================] - 0s 97us/sample - loss: 0.2603 - acc: 0.8822\n",
      "Epoch 185/500\n",
      "891/891 [==============================] - 0s 100us/sample - loss: 0.2640 - acc: 0.8788\n",
      "Epoch 186/500\n",
      "891/891 [==============================] - 0s 94us/sample - loss: 0.2721 - acc: 0.8889\n",
      "Epoch 187/500\n",
      "891/891 [==============================] - 0s 97us/sample - loss: 0.3453 - acc: 0.8586\n",
      "Epoch 188/500\n",
      "891/891 [==============================] - 0s 98us/sample - loss: 0.4062 - acc: 0.8496\n",
      "Epoch 189/500\n",
      "891/891 [==============================] - 0s 94us/sample - loss: 0.3156 - acc: 0.8642\n",
      "Epoch 190/500\n",
      "891/891 [==============================] - 0s 93us/sample - loss: 0.2962 - acc: 0.8620\n",
      "Epoch 191/500\n",
      "891/891 [==============================] - 0s 96us/sample - loss: 0.2877 - acc: 0.8721\n",
      "Epoch 192/500\n",
      "891/891 [==============================] - 0s 95us/sample - loss: 0.2812 - acc: 0.8833\n",
      "Epoch 193/500\n",
      "891/891 [==============================] - 0s 98us/sample - loss: 0.2826 - acc: 0.8777\n",
      "Epoch 194/500\n",
      "891/891 [==============================] - 0s 92us/sample - loss: 0.2806 - acc: 0.8855\n",
      "Epoch 195/500\n",
      "891/891 [==============================] - 0s 104us/sample - loss: 0.2682 - acc: 0.8810\n",
      "Epoch 196/500\n",
      "891/891 [==============================] - 0s 95us/sample - loss: 0.2554 - acc: 0.8956\n",
      "Epoch 197/500\n",
      "891/891 [==============================] - 0s 97us/sample - loss: 0.2598 - acc: 0.8934\n",
      "Epoch 198/500\n",
      "891/891 [==============================] - 0s 99us/sample - loss: 0.2571 - acc: 0.8900\n",
      "Epoch 199/500\n",
      "891/891 [==============================] - 0s 97us/sample - loss: 0.2638 - acc: 0.8866\n",
      "Epoch 200/500\n",
      "891/891 [==============================] - 0s 95us/sample - loss: 0.2592 - acc: 0.8923\n",
      "Epoch 201/500\n",
      "891/891 [==============================] - 0s 100us/sample - loss: 0.2740 - acc: 0.8844\n",
      "Epoch 202/500\n",
      "891/891 [==============================] - 0s 96us/sample - loss: 0.2595 - acc: 0.8900\n",
      "Epoch 203/500\n",
      "891/891 [==============================] - 0s 96us/sample - loss: 0.2643 - acc: 0.8866\n",
      "Epoch 204/500\n",
      "891/891 [==============================] - 0s 96us/sample - loss: 0.2522 - acc: 0.8956\n",
      "Epoch 205/500\n",
      "891/891 [==============================] - 0s 94us/sample - loss: 0.2532 - acc: 0.8956\n",
      "Epoch 206/500\n",
      "891/891 [==============================] - 0s 102us/sample - loss: 0.2727 - acc: 0.8810\n",
      "Epoch 207/500\n",
      "891/891 [==============================] - 0s 99us/sample - loss: 0.2894 - acc: 0.8810\n",
      "Epoch 208/500\n",
      "891/891 [==============================] - 0s 94us/sample - loss: 0.2777 - acc: 0.8743\n",
      "Epoch 209/500\n",
      "891/891 [==============================] - 0s 97us/sample - loss: 0.2652 - acc: 0.8878\n",
      "Epoch 210/500\n",
      "891/891 [==============================] - 0s 97us/sample - loss: 0.2815 - acc: 0.8878\n",
      "Epoch 211/500\n",
      "891/891 [==============================] - 0s 102us/sample - loss: 0.2794 - acc: 0.8754\n",
      "Epoch 212/500\n",
      "891/891 [==============================] - 0s 99us/sample - loss: 0.2716 - acc: 0.8900\n",
      "Epoch 213/500\n",
      "891/891 [==============================] - 0s 96us/sample - loss: 0.2560 - acc: 0.8923\n",
      "Epoch 214/500\n",
      "891/891 [==============================] - 0s 99us/sample - loss: 0.2760 - acc: 0.8777\n",
      "Epoch 215/500\n",
      "891/891 [==============================] - 0s 102us/sample - loss: 0.2587 - acc: 0.8844\n",
      "Epoch 216/500\n",
      "891/891 [==============================] - 0s 96us/sample - loss: 0.2627 - acc: 0.8956\n",
      "Epoch 217/500\n",
      "891/891 [==============================] - 0s 99us/sample - loss: 0.2471 - acc: 0.9012\n",
      "Epoch 218/500\n",
      "891/891 [==============================] - 0s 100us/sample - loss: 0.2542 - acc: 0.8911\n",
      "Epoch 219/500\n",
      "891/891 [==============================] - 0s 100us/sample - loss: 0.2534 - acc: 0.8866\n",
      "Epoch 220/500\n",
      "891/891 [==============================] - 0s 103us/sample - loss: 0.2640 - acc: 0.8945\n",
      "Epoch 221/500\n",
      "891/891 [==============================] - 0s 100us/sample - loss: 0.2495 - acc: 0.8967\n",
      "Epoch 222/500\n",
      "891/891 [==============================] - 0s 95us/sample - loss: 0.2412 - acc: 0.9012\n",
      "Epoch 223/500\n",
      "891/891 [==============================] - 0s 101us/sample - loss: 0.2467 - acc: 0.8956\n",
      "Epoch 224/500\n",
      "891/891 [==============================] - 0s 101us/sample - loss: 0.2392 - acc: 0.8967\n",
      "Epoch 225/500\n",
      "891/891 [==============================] - 0s 103us/sample - loss: 0.2581 - acc: 0.8934\n",
      "Epoch 226/500\n",
      "891/891 [==============================] - 0s 100us/sample - loss: 0.2595 - acc: 0.8878\n",
      "Epoch 227/500\n",
      "891/891 [==============================] - 0s 101us/sample - loss: 0.2491 - acc: 0.8979\n",
      "Epoch 228/500\n",
      "891/891 [==============================] - 0s 100us/sample - loss: 0.2429 - acc: 0.8967\n",
      "Epoch 229/500\n",
      "891/891 [==============================] - 0s 106us/sample - loss: 0.2411 - acc: 0.8979\n",
      "Epoch 230/500\n",
      "891/891 [==============================] - 0s 101us/sample - loss: 0.2472 - acc: 0.9012\n",
      "Epoch 231/500\n",
      "891/891 [==============================] - 0s 101us/sample - loss: 0.2482 - acc: 0.9024\n",
      "Epoch 232/500\n",
      "891/891 [==============================] - 0s 97us/sample - loss: 0.2448 - acc: 0.8990\n",
      "Epoch 233/500\n",
      "891/891 [==============================] - 0s 94us/sample - loss: 0.2578 - acc: 0.8889\n",
      "Epoch 234/500\n",
      "891/891 [==============================] - 0s 100us/sample - loss: 0.2581 - acc: 0.8866\n",
      "Epoch 235/500\n",
      "891/891 [==============================] - 0s 97us/sample - loss: 0.2484 - acc: 0.8855\n",
      "Epoch 236/500\n",
      "891/891 [==============================] - 0s 102us/sample - loss: 0.2428 - acc: 0.8967\n",
      "Epoch 237/500\n",
      "891/891 [==============================] - 0s 96us/sample - loss: 0.2462 - acc: 0.8956\n",
      "Epoch 238/500\n",
      "891/891 [==============================] - 0s 93us/sample - loss: 0.2460 - acc: 0.8889\n",
      "Epoch 239/500\n",
      "891/891 [==============================] - 0s 100us/sample - loss: 0.2402 - acc: 0.8967\n",
      "Epoch 240/500\n",
      "891/891 [==============================] - 0s 97us/sample - loss: 0.2588 - acc: 0.8878\n",
      "Epoch 241/500\n",
      "891/891 [==============================] - 0s 102us/sample - loss: 0.2499 - acc: 0.8866\n",
      "Epoch 242/500\n",
      "891/891 [==============================] - 0s 97us/sample - loss: 0.2393 - acc: 0.8990\n"
     ]
    },
    {
     "name": "stdout",
     "output_type": "stream",
     "text": [
      "Epoch 243/500\n",
      "891/891 [==============================] - 0s 97us/sample - loss: 0.2385 - acc: 0.8923\n",
      "Epoch 244/500\n",
      "891/891 [==============================] - 0s 94us/sample - loss: 0.2663 - acc: 0.8889\n",
      "Epoch 245/500\n",
      "891/891 [==============================] - 0s 95us/sample - loss: 0.2604 - acc: 0.8956\n",
      "Epoch 246/500\n",
      "891/891 [==============================] - 0s 99us/sample - loss: 0.2618 - acc: 0.8934\n",
      "Epoch 247/500\n",
      "891/891 [==============================] - 0s 96us/sample - loss: 0.2379 - acc: 0.8956\n",
      "Epoch 248/500\n",
      "891/891 [==============================] - 0s 95us/sample - loss: 0.2308 - acc: 0.9024\n",
      "Epoch 249/500\n",
      "891/891 [==============================] - 0s 96us/sample - loss: 0.2387 - acc: 0.8934\n",
      "Epoch 250/500\n",
      "891/891 [==============================] - 0s 99us/sample - loss: 0.2470 - acc: 0.9012\n",
      "Epoch 251/500\n",
      "891/891 [==============================] - 0s 94us/sample - loss: 0.2564 - acc: 0.8844\n",
      "Epoch 252/500\n",
      "891/891 [==============================] - 0s 98us/sample - loss: 0.2358 - acc: 0.9046\n",
      "Epoch 253/500\n",
      "891/891 [==============================] - 0s 97us/sample - loss: 0.2298 - acc: 0.9012\n",
      "Epoch 254/500\n",
      "891/891 [==============================] - 0s 94us/sample - loss: 0.2334 - acc: 0.8967\n",
      "Epoch 255/500\n",
      "891/891 [==============================] - 0s 97us/sample - loss: 0.2382 - acc: 0.8956\n",
      "Epoch 256/500\n",
      "891/891 [==============================] - 0s 95us/sample - loss: 0.3042 - acc: 0.8676\n",
      "Epoch 257/500\n",
      "891/891 [==============================] - 0s 93us/sample - loss: 0.2591 - acc: 0.8934\n",
      "Epoch 258/500\n",
      "891/891 [==============================] - 0s 94us/sample - loss: 0.2655 - acc: 0.8889\n",
      "Epoch 259/500\n",
      "891/891 [==============================] - 0s 95us/sample - loss: 0.2554 - acc: 0.8990\n",
      "Epoch 260/500\n",
      "891/891 [==============================] - 0s 96us/sample - loss: 0.2461 - acc: 0.8967\n",
      "Epoch 261/500\n",
      "891/891 [==============================] - 0s 94us/sample - loss: 0.2363 - acc: 0.8979\n",
      "Epoch 262/500\n",
      "891/891 [==============================] - 0s 96us/sample - loss: 0.2311 - acc: 0.9024\n",
      "Epoch 263/500\n",
      "891/891 [==============================] - 0s 94us/sample - loss: 0.2300 - acc: 0.9012\n",
      "Epoch 264/500\n",
      "891/891 [==============================] - 0s 101us/sample - loss: 0.2342 - acc: 0.8990\n",
      "Epoch 265/500\n",
      "891/891 [==============================] - 0s 100us/sample - loss: 0.2377 - acc: 0.8956\n",
      "Epoch 266/500\n",
      "891/891 [==============================] - 0s 98us/sample - loss: 0.2381 - acc: 0.9012\n",
      "Epoch 267/500\n",
      "891/891 [==============================] - 0s 100us/sample - loss: 0.2387 - acc: 0.8979\n",
      "Epoch 268/500\n",
      "891/891 [==============================] - 0s 99us/sample - loss: 0.2416 - acc: 0.9001\n",
      "Epoch 269/500\n",
      "891/891 [==============================] - 0s 99us/sample - loss: 0.2470 - acc: 0.8889\n",
      "Epoch 270/500\n",
      "891/891 [==============================] - 0s 97us/sample - loss: 0.2467 - acc: 0.8945\n",
      "Epoch 271/500\n",
      "891/891 [==============================] - 0s 98us/sample - loss: 0.2531 - acc: 0.8923\n",
      "Epoch 272/500\n",
      "891/891 [==============================] - 0s 96us/sample - loss: 0.2793 - acc: 0.8754\n",
      "Epoch 273/500\n",
      "891/891 [==============================] - 0s 93us/sample - loss: 0.2658 - acc: 0.8855\n",
      "Epoch 274/500\n",
      "891/891 [==============================] - 0s 97us/sample - loss: 0.2391 - acc: 0.9001\n",
      "Epoch 275/500\n",
      "891/891 [==============================] - 0s 102us/sample - loss: 0.2324 - acc: 0.9068\n",
      "Epoch 276/500\n",
      "891/891 [==============================] - 0s 102us/sample - loss: 0.2267 - acc: 0.9035\n",
      "Epoch 277/500\n",
      "891/891 [==============================] - 0s 99us/sample - loss: 0.2210 - acc: 0.9102\n",
      "Epoch 278/500\n",
      "891/891 [==============================] - 0s 97us/sample - loss: 0.2203 - acc: 0.9080\n",
      "Epoch 279/500\n",
      "891/891 [==============================] - 0s 96us/sample - loss: 0.2229 - acc: 0.9080\n",
      "Epoch 280/500\n",
      "891/891 [==============================] - 0s 95us/sample - loss: 0.2276 - acc: 0.8979\n",
      "Epoch 281/500\n",
      "891/891 [==============================] - 0s 93us/sample - loss: 0.2329 - acc: 0.9091\n",
      "Epoch 282/500\n",
      "891/891 [==============================] - 0s 97us/sample - loss: 0.2233 - acc: 0.9136\n",
      "Epoch 283/500\n",
      "891/891 [==============================] - 0s 96us/sample - loss: 0.2284 - acc: 0.9012\n",
      "Epoch 284/500\n",
      "891/891 [==============================] - 0s 94us/sample - loss: 0.2265 - acc: 0.9024\n",
      "Epoch 285/500\n",
      "891/891 [==============================] - 0s 94us/sample - loss: 0.2135 - acc: 0.9113\n",
      "Epoch 286/500\n",
      "891/891 [==============================] - 0s 97us/sample - loss: 0.2191 - acc: 0.9136\n",
      "Epoch 287/500\n",
      "891/891 [==============================] - 0s 97us/sample - loss: 0.2298 - acc: 0.9046\n",
      "Epoch 288/500\n",
      "891/891 [==============================] - 0s 102us/sample - loss: 0.2359 - acc: 0.8990\n",
      "Epoch 289/500\n",
      "891/891 [==============================] - 0s 98us/sample - loss: 0.2282 - acc: 0.9068\n",
      "Epoch 290/500\n",
      "891/891 [==============================] - 0s 97us/sample - loss: 0.2364 - acc: 0.8934\n",
      "Epoch 291/500\n",
      "891/891 [==============================] - 0s 94us/sample - loss: 0.2339 - acc: 0.8934\n",
      "Epoch 292/500\n",
      "891/891 [==============================] - 0s 96us/sample - loss: 0.2189 - acc: 0.9136\n",
      "Epoch 293/500\n",
      "891/891 [==============================] - 0s 101us/sample - loss: 0.2127 - acc: 0.9158\n",
      "Epoch 294/500\n",
      "891/891 [==============================] - 0s 97us/sample - loss: 0.2225 - acc: 0.9001\n",
      "Epoch 295/500\n",
      "891/891 [==============================] - 0s 94us/sample - loss: 0.2254 - acc: 0.8990\n",
      "Epoch 296/500\n",
      "891/891 [==============================] - 0s 100us/sample - loss: 0.2228 - acc: 0.9057\n",
      "Epoch 297/500\n",
      "891/891 [==============================] - 0s 95us/sample - loss: 0.2119 - acc: 0.9091\n",
      "Epoch 298/500\n",
      "891/891 [==============================] - 0s 92us/sample - loss: 0.2190 - acc: 0.9035\n",
      "Epoch 299/500\n",
      "891/891 [==============================] - 0s 101us/sample - loss: 0.2358 - acc: 0.8967\n",
      "Epoch 300/500\n",
      "891/891 [==============================] - 0s 97us/sample - loss: 0.2673 - acc: 0.9024\n",
      "Epoch 301/500\n",
      "891/891 [==============================] - 0s 97us/sample - loss: 0.3635 - acc: 0.8530\n",
      "Epoch 302/500\n",
      "891/891 [==============================] - 0s 97us/sample - loss: 0.3745 - acc: 0.8350\n",
      "Epoch 303/500\n",
      "891/891 [==============================] - 0s 100us/sample - loss: 0.2900 - acc: 0.8721\n",
      "Epoch 304/500\n",
      "891/891 [==============================] - 0s 102us/sample - loss: 0.2477 - acc: 0.8878\n",
      "Epoch 305/500\n",
      "891/891 [==============================] - 0s 101us/sample - loss: 0.2450 - acc: 0.8956\n",
      "Epoch 306/500\n",
      "891/891 [==============================] - 0s 101us/sample - loss: 0.2438 - acc: 0.8956\n",
      "Epoch 307/500\n",
      "891/891 [==============================] - 0s 103us/sample - loss: 0.2355 - acc: 0.9046\n",
      "Epoch 308/500\n",
      "891/891 [==============================] - 0s 99us/sample - loss: 0.2232 - acc: 0.9091\n",
      "Epoch 309/500\n",
      "891/891 [==============================] - 0s 100us/sample - loss: 0.2247 - acc: 0.9035\n",
      "Epoch 310/500\n",
      "891/891 [==============================] - 0s 97us/sample - loss: 0.2189 - acc: 0.9091\n",
      "Epoch 311/500\n",
      "891/891 [==============================] - 0s 102us/sample - loss: 0.2246 - acc: 0.9001\n",
      "Epoch 312/500\n",
      "891/891 [==============================] - 0s 96us/sample - loss: 0.2350 - acc: 0.9035\n",
      "Epoch 313/500\n",
      "891/891 [==============================] - 0s 101us/sample - loss: 0.2197 - acc: 0.9125\n",
      "Epoch 314/500\n",
      "891/891 [==============================] - 0s 99us/sample - loss: 0.2272 - acc: 0.8979\n",
      "Epoch 315/500\n",
      "891/891 [==============================] - 0s 101us/sample - loss: 0.2572 - acc: 0.8889\n",
      "Epoch 316/500\n",
      "891/891 [==============================] - 0s 100us/sample - loss: 0.2434 - acc: 0.8979\n",
      "Epoch 317/500\n",
      "891/891 [==============================] - 0s 96us/sample - loss: 0.2307 - acc: 0.9057\n",
      "Epoch 318/500\n",
      "891/891 [==============================] - 0s 103us/sample - loss: 0.2213 - acc: 0.9113\n",
      "Epoch 319/500\n",
      "891/891 [==============================] - 0s 102us/sample - loss: 0.2238 - acc: 0.9057\n",
      "Epoch 320/500\n",
      "891/891 [==============================] - 0s 102us/sample - loss: 0.2088 - acc: 0.9091\n",
      "Epoch 321/500\n",
      "891/891 [==============================] - 0s 96us/sample - loss: 0.2204 - acc: 0.9091\n",
      "Epoch 322/500\n",
      "891/891 [==============================] - ETA: 0s - loss: 0.2232 - acc: 0.901 - 0s 101us/sample - loss: 0.2170 - acc: 0.9046\n",
      "Epoch 323/500\n"
     ]
    },
    {
     "name": "stdout",
     "output_type": "stream",
     "text": [
      "891/891 [==============================] - 0s 101us/sample - loss: 0.2114 - acc: 0.9091\n",
      "Epoch 324/500\n",
      "891/891 [==============================] - 0s 96us/sample - loss: 0.2323 - acc: 0.9024\n",
      "Epoch 325/500\n",
      "891/891 [==============================] - 0s 99us/sample - loss: 0.2236 - acc: 0.8967\n",
      "Epoch 326/500\n",
      "891/891 [==============================] - 0s 95us/sample - loss: 0.2377 - acc: 0.9001\n",
      "Epoch 327/500\n",
      "891/891 [==============================] - 0s 94us/sample - loss: 0.2207 - acc: 0.9102\n",
      "Epoch 328/500\n",
      "891/891 [==============================] - 0s 94us/sample - loss: 0.2184 - acc: 0.9136\n",
      "Epoch 329/500\n",
      "891/891 [==============================] - 0s 96us/sample - loss: 0.2315 - acc: 0.8979\n",
      "Epoch 330/500\n",
      "891/891 [==============================] - 0s 99us/sample - loss: 0.2254 - acc: 0.9046\n",
      "Epoch 331/500\n",
      "891/891 [==============================] - 0s 102us/sample - loss: 0.2216 - acc: 0.9091\n",
      "Epoch 332/500\n",
      "891/891 [==============================] - 0s 100us/sample - loss: 0.2268 - acc: 0.9024\n",
      "Epoch 333/500\n",
      "891/891 [==============================] - 0s 96us/sample - loss: 0.2197 - acc: 0.9001\n",
      "Epoch 334/500\n",
      "891/891 [==============================] - 0s 99us/sample - loss: 0.2155 - acc: 0.9125\n",
      "Epoch 335/500\n",
      "891/891 [==============================] - 0s 97us/sample - loss: 0.2109 - acc: 0.9113\n",
      "Epoch 336/500\n",
      "891/891 [==============================] - 0s 95us/sample - loss: 0.2155 - acc: 0.9113\n",
      "Epoch 337/500\n",
      "891/891 [==============================] - 0s 94us/sample - loss: 0.2302 - acc: 0.9046\n",
      "Epoch 338/500\n",
      "891/891 [==============================] - 0s 97us/sample - loss: 0.2457 - acc: 0.9046\n",
      "Epoch 339/500\n",
      "891/891 [==============================] - 0s 101us/sample - loss: 0.2188 - acc: 0.9024\n",
      "Epoch 340/500\n",
      "891/891 [==============================] - 0s 94us/sample - loss: 0.2140 - acc: 0.9024\n",
      "Epoch 341/500\n",
      "891/891 [==============================] - 0s 98us/sample - loss: 0.2107 - acc: 0.9147\n",
      "Epoch 342/500\n",
      "891/891 [==============================] - 0s 96us/sample - loss: 0.2079 - acc: 0.9068\n",
      "Epoch 343/500\n",
      "891/891 [==============================] - 0s 96us/sample - loss: 0.2240 - acc: 0.9136\n",
      "Epoch 344/500\n",
      "891/891 [==============================] - 0s 97us/sample - loss: 0.2274 - acc: 0.9046\n",
      "Epoch 345/500\n",
      "891/891 [==============================] - 0s 102us/sample - loss: 0.2258 - acc: 0.8945\n",
      "Epoch 346/500\n",
      "891/891 [==============================] - 0s 99us/sample - loss: 0.2099 - acc: 0.9113\n",
      "Epoch 347/500\n",
      "891/891 [==============================] - 0s 93us/sample - loss: 0.2163 - acc: 0.9102\n",
      "Epoch 348/500\n",
      "891/891 [==============================] - 0s 96us/sample - loss: 0.2174 - acc: 0.9080\n",
      "Epoch 349/500\n",
      "891/891 [==============================] - 0s 96us/sample - loss: 0.2248 - acc: 0.8945\n",
      "Epoch 350/500\n",
      "891/891 [==============================] - 0s 95us/sample - loss: 0.2489 - acc: 0.9001\n",
      "Epoch 351/500\n",
      "891/891 [==============================] - 0s 97us/sample - loss: 0.2170 - acc: 0.9057\n",
      "Epoch 352/500\n",
      "891/891 [==============================] - 0s 95us/sample - loss: 0.2187 - acc: 0.9080\n",
      "Epoch 353/500\n",
      "891/891 [==============================] - 0s 97us/sample - loss: 0.2235 - acc: 0.9057\n",
      "Epoch 354/500\n",
      "891/891 [==============================] - 0s 100us/sample - loss: 0.2094 - acc: 0.9136\n",
      "Epoch 355/500\n",
      "891/891 [==============================] - 0s 100us/sample - loss: 0.2060 - acc: 0.9102\n",
      "Epoch 356/500\n",
      "891/891 [==============================] - 0s 94us/sample - loss: 0.2047 - acc: 0.9113\n",
      "Epoch 357/500\n",
      "891/891 [==============================] - 0s 106us/sample - loss: 0.2056 - acc: 0.9125\n",
      "Epoch 358/500\n",
      "891/891 [==============================] - 0s 98us/sample - loss: 0.2090 - acc: 0.9125\n",
      "Epoch 359/500\n",
      "891/891 [==============================] - 0s 98us/sample - loss: 0.2025 - acc: 0.9147\n",
      "Epoch 360/500\n",
      "891/891 [==============================] - 0s 96us/sample - loss: 0.2131 - acc: 0.9102\n",
      "Epoch 361/500\n",
      "891/891 [==============================] - 0s 96us/sample - loss: 0.2276 - acc: 0.9012\n",
      "Epoch 362/500\n",
      "891/891 [==============================] - 0s 95us/sample - loss: 0.2108 - acc: 0.9147\n",
      "Epoch 363/500\n",
      "891/891 [==============================] - 0s 97us/sample - loss: 0.2080 - acc: 0.9113\n",
      "Epoch 364/500\n",
      "891/891 [==============================] - 0s 95us/sample - loss: 0.2102 - acc: 0.9113\n",
      "Epoch 365/500\n",
      "891/891 [==============================] - 0s 97us/sample - loss: 0.2055 - acc: 0.9091\n",
      "Epoch 366/500\n",
      "891/891 [==============================] - 0s 96us/sample - loss: 0.2089 - acc: 0.9091\n",
      "Epoch 367/500\n",
      "891/891 [==============================] - 0s 95us/sample - loss: 0.2176 - acc: 0.9125\n",
      "Epoch 368/500\n",
      "891/891 [==============================] - 0s 97us/sample - loss: 0.2481 - acc: 0.8911\n",
      "Epoch 369/500\n",
      "891/891 [==============================] - 0s 101us/sample - loss: 0.2562 - acc: 0.8878\n",
      "Epoch 370/500\n",
      "891/891 [==============================] - 0s 95us/sample - loss: 0.2334 - acc: 0.9035\n",
      "Epoch 371/500\n",
      "891/891 [==============================] - 0s 97us/sample - loss: 0.2222 - acc: 0.9068\n",
      "Epoch 372/500\n",
      "891/891 [==============================] - 0s 98us/sample - loss: 0.2182 - acc: 0.9035\n",
      "Epoch 373/500\n",
      "891/891 [==============================] - 0s 94us/sample - loss: 0.2019 - acc: 0.9091\n",
      "Epoch 374/500\n",
      "891/891 [==============================] - 0s 98us/sample - loss: 0.2080 - acc: 0.9125\n",
      "Epoch 375/500\n",
      "891/891 [==============================] - 0s 99us/sample - loss: 0.2001 - acc: 0.9226\n",
      "Epoch 376/500\n",
      "891/891 [==============================] - 0s 98us/sample - loss: 0.2035 - acc: 0.9136\n",
      "Epoch 377/500\n",
      "891/891 [==============================] - 0s 97us/sample - loss: 0.2122 - acc: 0.9147\n",
      "Epoch 378/500\n",
      "891/891 [==============================] - 0s 97us/sample - loss: 0.2196 - acc: 0.9024\n",
      "Epoch 379/500\n",
      "891/891 [==============================] - 0s 96us/sample - loss: 0.2847 - acc: 0.8945\n",
      "Epoch 380/500\n",
      "891/891 [==============================] - 0s 100us/sample - loss: 0.2671 - acc: 0.8923\n",
      "Epoch 381/500\n",
      "891/891 [==============================] - 0s 100us/sample - loss: 0.2382 - acc: 0.8979\n",
      "Epoch 382/500\n",
      "891/891 [==============================] - 0s 99us/sample - loss: 0.2099 - acc: 0.9113\n",
      "Epoch 383/500\n",
      "891/891 [==============================] - 0s 100us/sample - loss: 0.2100 - acc: 0.9136\n",
      "Epoch 384/500\n",
      "891/891 [==============================] - 0s 101us/sample - loss: 0.2137 - acc: 0.9046\n",
      "Epoch 385/500\n",
      "891/891 [==============================] - 0s 103us/sample - loss: 0.1954 - acc: 0.9192\n",
      "Epoch 386/500\n",
      "891/891 [==============================] - 0s 100us/sample - loss: 0.1976 - acc: 0.9169\n",
      "Epoch 387/500\n",
      "891/891 [==============================] - 0s 100us/sample - loss: 0.2046 - acc: 0.9203\n",
      "Epoch 388/500\n",
      "891/891 [==============================] - 0s 94us/sample - loss: 0.1983 - acc: 0.9192\n",
      "Epoch 389/500\n",
      "891/891 [==============================] - 0s 95us/sample - loss: 0.1904 - acc: 0.9192\n",
      "Epoch 390/500\n",
      "891/891 [==============================] - 0s 101us/sample - loss: 0.2010 - acc: 0.9169\n",
      "Epoch 391/500\n",
      "891/891 [==============================] - 0s 98us/sample - loss: 0.2830 - acc: 0.8889\n",
      "Epoch 392/500\n",
      "891/891 [==============================] - 0s 102us/sample - loss: 0.2506 - acc: 0.9024\n",
      "Epoch 393/500\n",
      "891/891 [==============================] - 0s 99us/sample - loss: 0.2088 - acc: 0.9080\n",
      "Epoch 394/500\n",
      "891/891 [==============================] - 0s 97us/sample - loss: 0.1935 - acc: 0.9192\n",
      "Epoch 395/500\n",
      "891/891 [==============================] - 0s 113us/sample - loss: 0.1987 - acc: 0.9192\n",
      "Epoch 396/500\n",
      "891/891 [==============================] - 0s 99us/sample - loss: 0.2010 - acc: 0.9181\n",
      "Epoch 397/500\n",
      "891/891 [==============================] - 0s 95us/sample - loss: 0.2065 - acc: 0.9158\n",
      "Epoch 398/500\n",
      "891/891 [==============================] - 0s 104us/sample - loss: 0.1996 - acc: 0.9203\n",
      "Epoch 399/500\n",
      "891/891 [==============================] - 0s 104us/sample - loss: 0.2041 - acc: 0.9192\n",
      "Epoch 400/500\n",
      "891/891 [==============================] - 0s 104us/sample - loss: 0.2081 - acc: 0.9192\n",
      "Epoch 401/500\n",
      "891/891 [==============================] - 0s 101us/sample - loss: 0.2120 - acc: 0.9068\n",
      "Epoch 402/500\n",
      "891/891 [==============================] - 0s 97us/sample - loss: 0.2088 - acc: 0.9125\n",
      "Epoch 403/500\n",
      "891/891 [==============================] - 0s 102us/sample - loss: 0.2073 - acc: 0.9147\n"
     ]
    },
    {
     "name": "stdout",
     "output_type": "stream",
     "text": [
      "Epoch 404/500\n",
      "891/891 [==============================] - 0s 104us/sample - loss: 0.1993 - acc: 0.9136\n",
      "Epoch 405/500\n",
      "891/891 [==============================] - 0s 96us/sample - loss: 0.2168 - acc: 0.9158\n",
      "Epoch 406/500\n",
      "891/891 [==============================] - 0s 96us/sample - loss: 0.1908 - acc: 0.9181\n",
      "Epoch 407/500\n",
      "891/891 [==============================] - 0s 95us/sample - loss: 0.1954 - acc: 0.9113\n",
      "Epoch 408/500\n",
      "891/891 [==============================] - 0s 94us/sample - loss: 0.1960 - acc: 0.9147\n",
      "Epoch 409/500\n",
      "891/891 [==============================] - 0s 100us/sample - loss: 0.1880 - acc: 0.9192\n",
      "Epoch 410/500\n",
      "891/891 [==============================] - 0s 96us/sample - loss: 0.1849 - acc: 0.9248\n",
      "Epoch 411/500\n",
      "891/891 [==============================] - 0s 97us/sample - loss: 0.1899 - acc: 0.9248\n",
      "Epoch 412/500\n",
      "891/891 [==============================] - 0s 95us/sample - loss: 0.2095 - acc: 0.9136\n",
      "Epoch 413/500\n",
      "891/891 [==============================] - 0s 97us/sample - loss: 0.2384 - acc: 0.8979\n",
      "Epoch 414/500\n",
      "891/891 [==============================] - 0s 95us/sample - loss: 0.2048 - acc: 0.9080\n",
      "Epoch 415/500\n",
      "891/891 [==============================] - 0s 107us/sample - loss: 0.2022 - acc: 0.9158\n",
      "Epoch 416/500\n",
      "891/891 [==============================] - 0s 96us/sample - loss: 0.2012 - acc: 0.9147\n",
      "Epoch 417/500\n",
      "891/891 [==============================] - 0s 97us/sample - loss: 0.1938 - acc: 0.9192\n",
      "Epoch 418/500\n",
      "891/891 [==============================] - 0s 96us/sample - loss: 0.1922 - acc: 0.9226\n",
      "Epoch 419/500\n",
      "891/891 [==============================] - 0s 93us/sample - loss: 0.2104 - acc: 0.9091\n",
      "Epoch 420/500\n",
      "891/891 [==============================] - 0s 99us/sample - loss: 0.2016 - acc: 0.9203\n",
      "Epoch 421/500\n",
      "891/891 [==============================] - 0s 93us/sample - loss: 0.1892 - acc: 0.9248\n",
      "Epoch 422/500\n",
      "891/891 [==============================] - 0s 94us/sample - loss: 0.1943 - acc: 0.9169\n",
      "Epoch 423/500\n",
      "891/891 [==============================] - 0s 97us/sample - loss: 0.2034 - acc: 0.9192\n",
      "Epoch 424/500\n",
      "891/891 [==============================] - 0s 100us/sample - loss: 0.1932 - acc: 0.9147\n",
      "Epoch 425/500\n",
      "891/891 [==============================] - 0s 95us/sample - loss: 0.2057 - acc: 0.9080\n",
      "Epoch 426/500\n",
      "891/891 [==============================] - 0s 103us/sample - loss: 0.2047 - acc: 0.9125\n",
      "Epoch 427/500\n",
      "891/891 [==============================] - 0s 101us/sample - loss: 0.1953 - acc: 0.9226\n",
      "Epoch 428/500\n",
      "891/891 [==============================] - 0s 99us/sample - loss: 0.1998 - acc: 0.9181\n",
      "Epoch 429/500\n",
      "891/891 [==============================] - 0s 96us/sample - loss: 0.1929 - acc: 0.9169\n",
      "Epoch 430/500\n",
      "891/891 [==============================] - 0s 95us/sample - loss: 0.2085 - acc: 0.9136\n",
      "Epoch 431/500\n",
      "891/891 [==============================] - 0s 97us/sample - loss: 0.1988 - acc: 0.9147\n",
      "Epoch 432/500\n",
      "891/891 [==============================] - 0s 99us/sample - loss: 0.1936 - acc: 0.9203\n",
      "Epoch 433/500\n",
      "891/891 [==============================] - 0s 95us/sample - loss: 0.1864 - acc: 0.9237\n",
      "Epoch 434/500\n",
      "891/891 [==============================] - 0s 97us/sample - loss: 0.1932 - acc: 0.9125\n",
      "Epoch 435/500\n",
      "891/891 [==============================] - 0s 100us/sample - loss: 0.1925 - acc: 0.9203\n",
      "Epoch 436/500\n",
      "891/891 [==============================] - 0s 97us/sample - loss: 0.2101 - acc: 0.9113\n",
      "Epoch 437/500\n",
      "891/891 [==============================] - 0s 98us/sample - loss: 0.2285 - acc: 0.9057\n",
      "Epoch 438/500\n",
      "891/891 [==============================] - 0s 102us/sample - loss: 0.2632 - acc: 0.8967\n",
      "Epoch 439/500\n",
      "891/891 [==============================] - 0s 100us/sample - loss: 0.2832 - acc: 0.8956\n",
      "Epoch 440/500\n",
      "891/891 [==============================] - 0s 96us/sample - loss: 0.2731 - acc: 0.8911\n",
      "Epoch 441/500\n",
      "891/891 [==============================] - 0s 96us/sample - loss: 0.2121 - acc: 0.9091\n",
      "Epoch 442/500\n",
      "891/891 [==============================] - 0s 95us/sample - loss: 0.2039 - acc: 0.9147\n",
      "Epoch 443/500\n",
      "891/891 [==============================] - 0s 98us/sample - loss: 0.1983 - acc: 0.9181\n",
      "Epoch 444/500\n",
      "891/891 [==============================] - 0s 96us/sample - loss: 0.1974 - acc: 0.9214\n",
      "Epoch 445/500\n",
      "891/891 [==============================] - 0s 94us/sample - loss: 0.1936 - acc: 0.9192\n",
      "Epoch 446/500\n",
      "891/891 [==============================] - 0s 98us/sample - loss: 0.1953 - acc: 0.9181\n",
      "Epoch 447/500\n",
      "891/891 [==============================] - 0s 95us/sample - loss: 0.2043 - acc: 0.9158\n",
      "Epoch 448/500\n",
      "891/891 [==============================] - 0s 99us/sample - loss: 0.2030 - acc: 0.9080\n",
      "Epoch 449/500\n",
      "891/891 [==============================] - 0s 97us/sample - loss: 0.2148 - acc: 0.9068\n",
      "Epoch 450/500\n",
      "891/891 [==============================] - 0s 101us/sample - loss: 0.1885 - acc: 0.9192\n",
      "Epoch 451/500\n",
      "891/891 [==============================] - 0s 93us/sample - loss: 0.1889 - acc: 0.9192\n",
      "Epoch 452/500\n",
      "891/891 [==============================] - 0s 92us/sample - loss: 0.1868 - acc: 0.9237\n",
      "Epoch 453/500\n",
      "891/891 [==============================] - 0s 94us/sample - loss: 0.1862 - acc: 0.9158\n",
      "Epoch 454/500\n",
      "891/891 [==============================] - 0s 96us/sample - loss: 0.1950 - acc: 0.9214\n",
      "Epoch 455/500\n",
      "891/891 [==============================] - 0s 97us/sample - loss: 0.1988 - acc: 0.9125\n",
      "Epoch 456/500\n",
      "891/891 [==============================] - 0s 95us/sample - loss: 0.2186 - acc: 0.9158\n",
      "Epoch 457/500\n",
      "891/891 [==============================] - 0s 100us/sample - loss: 0.2594 - acc: 0.8945\n",
      "Epoch 458/500\n",
      "891/891 [==============================] - 0s 96us/sample - loss: 0.2417 - acc: 0.8956\n",
      "Epoch 459/500\n",
      "891/891 [==============================] - 0s 95us/sample - loss: 0.2059 - acc: 0.9181\n",
      "Epoch 460/500\n",
      "891/891 [==============================] - 0s 102us/sample - loss: 0.1974 - acc: 0.9192\n",
      "Epoch 461/500\n",
      "891/891 [==============================] - 0s 101us/sample - loss: 0.2080 - acc: 0.9147\n",
      "Epoch 462/500\n",
      "891/891 [==============================] - 0s 102us/sample - loss: 0.2154 - acc: 0.9169\n",
      "Epoch 463/500\n",
      "891/891 [==============================] - 0s 100us/sample - loss: 0.2283 - acc: 0.9035\n",
      "Epoch 464/500\n",
      "891/891 [==============================] - 0s 96us/sample - loss: 0.2145 - acc: 0.9158\n",
      "Epoch 465/500\n",
      "891/891 [==============================] - 0s 95us/sample - loss: 0.1949 - acc: 0.9147\n",
      "Epoch 466/500\n",
      "891/891 [==============================] - 0s 99us/sample - loss: 0.1907 - acc: 0.9181\n",
      "Epoch 467/500\n",
      "891/891 [==============================] - 0s 97us/sample - loss: 0.1849 - acc: 0.9237\n",
      "Epoch 468/500\n",
      "891/891 [==============================] - 0s 102us/sample - loss: 0.1850 - acc: 0.9237\n",
      "Epoch 469/500\n",
      "891/891 [==============================] - 0s 94us/sample - loss: 0.1964 - acc: 0.9091\n",
      "Epoch 470/500\n",
      "891/891 [==============================] - 0s 99us/sample - loss: 0.2181 - acc: 0.9147\n",
      "Epoch 471/500\n",
      "891/891 [==============================] - 0s 100us/sample - loss: 0.1933 - acc: 0.9192\n",
      "Epoch 472/500\n",
      "891/891 [==============================] - 0s 101us/sample - loss: 0.1842 - acc: 0.9203\n",
      "Epoch 473/500\n",
      "891/891 [==============================] - 0s 106us/sample - loss: 0.1962 - acc: 0.9158\n",
      "Epoch 474/500\n",
      "891/891 [==============================] - 0s 100us/sample - loss: 0.1889 - acc: 0.9169\n",
      "Epoch 475/500\n",
      "891/891 [==============================] - 0s 101us/sample - loss: 0.1854 - acc: 0.9192\n",
      "Epoch 476/500\n",
      "891/891 [==============================] - 0s 97us/sample - loss: 0.2002 - acc: 0.9192\n",
      "Epoch 477/500\n",
      "891/891 [==============================] - 0s 99us/sample - loss: 0.2104 - acc: 0.9102\n",
      "Epoch 478/500\n",
      "891/891 [==============================] - 0s 95us/sample - loss: 0.2087 - acc: 0.9091\n",
      "Epoch 479/500\n",
      "891/891 [==============================] - 0s 100us/sample - loss: 0.2103 - acc: 0.9136\n",
      "Epoch 480/500\n",
      "891/891 [==============================] - 0s 101us/sample - loss: 0.2162 - acc: 0.9080\n",
      "Epoch 481/500\n",
      "891/891 [==============================] - 0s 100us/sample - loss: 0.2015 - acc: 0.9125\n",
      "Epoch 482/500\n",
      "891/891 [==============================] - 0s 100us/sample - loss: 0.1878 - acc: 0.9214\n",
      "Epoch 483/500\n",
      "891/891 [==============================] - 0s 99us/sample - loss: 0.1835 - acc: 0.9203\n",
      "Epoch 484/500\n"
     ]
    },
    {
     "name": "stdout",
     "output_type": "stream",
     "text": [
      "891/891 [==============================] - 0s 100us/sample - loss: 0.1773 - acc: 0.9259\n",
      "Epoch 485/500\n",
      "891/891 [==============================] - 0s 100us/sample - loss: 0.1740 - acc: 0.9248\n",
      "Epoch 486/500\n",
      "891/891 [==============================] - 0s 102us/sample - loss: 0.1798 - acc: 0.9248\n",
      "Epoch 487/500\n",
      "891/891 [==============================] - 0s 100us/sample - loss: 0.1988 - acc: 0.9147\n",
      "Epoch 488/500\n",
      "891/891 [==============================] - 0s 98us/sample - loss: 0.2046 - acc: 0.9080\n",
      "Epoch 489/500\n",
      "891/891 [==============================] - 0s 96us/sample - loss: 0.1888 - acc: 0.9226\n",
      "Epoch 490/500\n",
      "891/891 [==============================] - 0s 98us/sample - loss: 0.1811 - acc: 0.9259\n",
      "Epoch 491/500\n",
      "891/891 [==============================] - 0s 97us/sample - loss: 0.1897 - acc: 0.9214\n",
      "Epoch 492/500\n",
      "891/891 [==============================] - 0s 98us/sample - loss: 0.1761 - acc: 0.9259\n",
      "Epoch 493/500\n",
      "891/891 [==============================] - 0s 93us/sample - loss: 0.1806 - acc: 0.9214\n",
      "Epoch 494/500\n",
      "891/891 [==============================] - 0s 96us/sample - loss: 0.1869 - acc: 0.9214\n",
      "Epoch 495/500\n",
      "891/891 [==============================] - 0s 95us/sample - loss: 0.1956 - acc: 0.9102\n",
      "Epoch 496/500\n",
      "891/891 [==============================] - 0s 99us/sample - loss: 0.2119 - acc: 0.9113\n",
      "Epoch 497/500\n",
      "891/891 [==============================] - 0s 94us/sample - loss: 0.3022 - acc: 0.8833\n",
      "Epoch 498/500\n",
      "891/891 [==============================] - 0s 95us/sample - loss: 0.2745 - acc: 0.8777\n",
      "Epoch 499/500\n",
      "891/891 [==============================] - 0s 95us/sample - loss: 0.2537 - acc: 0.8967\n",
      "Epoch 500/500\n",
      "891/891 [==============================] - 0s 93us/sample - loss: 0.2684 - acc: 0.8822\n"
     ]
    },
    {
     "data": {
      "text/plain": [
       "<tensorflow.python.keras.callbacks.History at 0x223fb4e8fd0>"
      ]
     },
     "execution_count": 51,
     "metadata": {},
     "output_type": "execute_result"
    }
   ],
   "source": [
    "model = model()\n",
    "model.fit(X_train, Y_train, epochs = 500)"
   ]
  },
  {
   "cell_type": "code",
   "execution_count": 52,
   "metadata": {},
   "outputs": [],
   "source": [
    "predict_nn = model.predict([X_test])"
   ]
  },
  {
   "cell_type": "code",
   "execution_count": 53,
   "metadata": {},
   "outputs": [],
   "source": [
    "predict_nn_fin = []\n",
    "for i in range(len(predict_nn)):\n",
    "    if predict_nn[i]>=0.5:\n",
    "        predict_nn_fin.append(1)\n",
    "    else:\n",
    "        predict_nn_fin.append(0)"
   ]
  },
  {
   "cell_type": "code",
   "execution_count": 54,
   "metadata": {},
   "outputs": [
    {
     "name": "stdout",
     "output_type": "stream",
     "text": [
      "Accuracy = 81.1%\n",
      "              precision    recall  f1-score   support\n",
      "\n",
      "           0       0.86      0.85      0.85       266\n",
      "           1       0.74      0.75      0.74       152\n",
      "\n",
      "    accuracy                           0.81       418\n",
      "   macro avg       0.80      0.80      0.80       418\n",
      "weighted avg       0.81      0.81      0.81       418\n",
      "\n",
      "Score = 0.7426710097719871\n",
      "[[225  41]\n",
      " [ 38 114]]\n"
     ]
    }
   ],
   "source": [
    "print(\"Accuracy = {0}%\".format(round(accuracy_score(Y_test, predict_nn_fin)*100, 2)))\n",
    "print(classification_report(Y_test, predict_nn_fin))\n",
    "print(\"Score = {0}\".format(f1_score(Y_test, predict_nn_fin)))\n",
    "print(confusion_matrix(Y_test, predict_nn_fin))"
   ]
  }
 ],
 "metadata": {
  "kernelspec": {
   "display_name": "Python 3",
   "language": "python",
   "name": "python3"
  },
  "language_info": {
   "codemirror_mode": {
    "name": "ipython",
    "version": 3
   },
   "file_extension": ".py",
   "mimetype": "text/x-python",
   "name": "python",
   "nbconvert_exporter": "python",
   "pygments_lexer": "ipython3",
   "version": "3.7.3"
  }
 },
 "nbformat": 4,
 "nbformat_minor": 2
}
